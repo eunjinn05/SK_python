{
 "cells": [
  {
   "cell_type": "markdown",
   "id": "a2f58681",
   "metadata": {},
   "source": [
    "# pymysql\n",
    "\n",
    "-   파이썬에서 MySQL, MariaDB DBMS와 연동하는 다양한 함수를 제공하는 모듈\n",
    "-   Python [DB API 2.0](http://www.python.org/dev/peps/pep-0249) 표준을 따른다.\n",
    "-   https://github.com/PyMySQL/PyMySQL/\n",
    "-   https://pymysql.readthedocs.io/en/latest/\n"
   ]
  },
  {
   "cell_type": "markdown",
   "id": "43cccb80",
   "metadata": {},
   "source": [
    "# 설치\n",
    "\n",
    "-   조건\n",
    "    -   python version 3.6 이상\n",
    "    -   mysql version 5.6 이상\n",
    "-   설치\n",
    "    -   `pip install pymysql`\n",
    "    -   `conda install -c conda-forge pymysql`\n"
   ]
  },
  {
   "cell_type": "code",
   "execution_count": null,
   "id": "16ddb3ec",
   "metadata": {},
   "outputs": [],
   "source": []
  },
  {
   "cell_type": "markdown",
   "id": "7572463d",
   "metadata": {},
   "source": [
    "# 기본 작성 절차\n",
    "\n",
    "1. Database 연결\n",
    "    ```python\n",
    "       connection =  pymysql.connect(host:str=\"DBMS 서버 ip\",\n",
    "                                     port:int=port번호,\n",
    "                                     user:str=\"계정명\",\n",
    "                                     password:str=\"비밀번호\",\n",
    "                                     db:str=\"연결할데이터베이스이름\")\n",
    "    ```\n",
    "    - port 번호 기본값: 3306\n",
    "    - ContextManager 타입으로 with 구문을 이용해 작성하면 close() 작업을 자동으로 처리한다.\n",
    "2. Connection을 이용해 Cursor 생성\n",
    "    - Cursor: 연결된 Database에 sql문을 전송하고 select결과 조회 기능을 제공하는 객체\n",
    "    ```python\n",
    "        cursor = connection.cursor()\n",
    "    ```\n",
    "    - ContextManager 타입으로 with 구문을 이용해 작성하면 close() 작업을 자동으로 처리한다.\n",
    "3. Cusror를 이용해 SQL문 실행(DB Server로 전송)\n",
    "    ```python\n",
    "        cursor.execute(\"sql문\")\n",
    "    ```\n",
    "4. Select 결과 조회\n",
    "    - select 문을 실행한 경우 cursor를 의 fetch 메소드들을 이용해 select 결과를 조회한다.\n",
    "    ```python\n",
    "    result = cursor.fetchall()\n",
    "    ```\n",
    "5. 연결 닫기\n",
    "    - cursor, connection 연결을 닫는다.\n",
    "    - with문을 이용할 수 있다.\n",
    "    ```python\n",
    "    cursor.close()\n",
    "    connection.close()\n",
    "    ```\n"
   ]
  },
  {
   "cell_type": "markdown",
   "id": "3262b127",
   "metadata": {},
   "source": [
    "# 예제\n",
    "\n",
    "## 테이블 생성\n"
   ]
  },
  {
   "cell_type": "code",
   "execution_count": 2,
   "id": "1fbddc50-275f-4803-b3f9-2f8f19a86690",
   "metadata": {},
   "outputs": [],
   "source": [
    "create_sql = \"\"\"\n",
    "create table customer(\n",
    "  id  int  auto_increment  primary key,\n",
    "  name  varchar(20) not null,\n",
    "  email  varchar(50) not null unique, \n",
    "  tall   double,\n",
    "  birthday  date,\n",
    "  created_at  datetime  not null\n",
    ")\n",
    "\"\"\"   \n",
    "# 파이썬 내에서 sql 문 마지막에 `;` 은 붙이지 않는다."
   ]
  },
  {
   "cell_type": "code",
   "execution_count": 3,
   "id": "d9b6ce09-4545-4540-aa6a-d73adf5a6c13",
   "metadata": {
    "scrolled": true
   },
   "outputs": [],
   "source": [
    "import pymysql\n",
    "try:\n",
    "    conn = None\n",
    "    \n",
    "    # 1. Database와 연결.\n",
    "    conn = pymysql.connect(\n",
    "        host=\"127.0.0.1\",    # DBMS 의 ip(host) : str\n",
    "        port=3306,           # DBMS의 port 번호: int\n",
    "        user=\"scott\",        # username: str\n",
    "        password=\"tiger\",    # password: str\n",
    "        db=\"mydb\"            #  연결할 Database이름: str\n",
    "    )  # 연결 성공하면 연결된 DB와 관련 작업할 수있는 기능을 제공하는 Connection객체를 반환\n",
    "    \n",
    "    # 2. Connection을 사용해서 Cursor 객체 생성\n",
    "    #    Cursor: sql 처리를 하는 기능을 제공.( sql 전송하고 처리결과를 받을 때까지를 관리)\n",
    "    cursor = conn.cursor()\n",
    "        \n",
    "    # 3. SQL 문 전송\n",
    "    cursor.execute(\"drop table if exists customer\")\n",
    "    cursor.execute(create_sql) \n",
    "    \n",
    "finally:\n",
    "    # 4. 연결닫기(끊기)\n",
    "    if conn:\n",
    "        cursor.close() # 4-1. cursor 연결 닫기\n",
    "        conn.close()  # 4-2. connection 연결 닫기"
   ]
  },
  {
   "cell_type": "markdown",
   "id": "98b6a836-68da-4dcb-80fc-f0ac22949b8b",
   "metadata": {},
   "source": [
    "## 파이썬 타입과 연결된 sql 데이터타입 \n",
    "- str - 문자열타입(char, varchar, text,...)\n",
    "- int - 정수(tiny int , int, ....)\n",
    "- float - 실수(float, double)\n",
    "- decimal.Decimal - 실수(decimal)\n",
    "- datetime.date - date\n",
    "- datetime.time - time\n",
    "- datetime.datetime - datetime, timestamp"
   ]
  },
  {
   "cell_type": "markdown",
   "id": "6741499c-a897-4092-8f11-df4720345cf7",
   "metadata": {},
   "source": [
    "> ### datetime 모듈\n",
    "> - 파이썬에서 날짜, 시간을 다루는 모듈\n",
    "> - 날짜 type(class): date\n",
    "> - 시간 type: time\n",
    "> - 날짜시간 type: datetime"
   ]
  },
  {
   "cell_type": "code",
   "execution_count": null,
   "id": "5331f2d6-96df-4509-9525-cc8cf765a1a1",
   "metadata": {},
   "outputs": [],
   "source": [
    "from datetime import date, datetime, time\n",
    "a = date(2000, 10, 20)                                    # 날짜 객체 생성 - 년, 월, 일\n",
    "print(a.year, a.month, a.day)                             # data객체에서 년/월/일 조회\n",
    "b = datetime(2000,  10, 20, 12, 23)                       # 날짜시간 객체 생성 - 년, 월, 일, 시, 분, 초 지정. (초는 생략가능)\n",
    "print(b.year, b.month, b.day, b.hour, b.minute, b.second) # 년/월/일/시/분/초 조회\n",
    "\n",
    "print(datetime.now())  # 실행시점의 일시로 datetime객체 생성\n",
    "print(date.today())    # 실행시점의 날짜로 date객체 생성"
   ]
  },
  {
   "cell_type": "markdown",
   "id": "59b4e786",
   "metadata": {},
   "source": [
    "## DML\n",
    "\n",
    "### insert\n"
   ]
  },
  {
   "cell_type": "code",
   "execution_count": null,
   "id": "61deab37",
   "metadata": {},
   "outputs": [],
   "source": [
    "sql = \"insert into customer (name, email, tall, birthday, created_at) values('이순신', 'lee1@naver.com', 185.23, '2000-09-20', now())\""
   ]
  },
  {
   "cell_type": "code",
   "execution_count": null,
   "id": "c78ebebd",
   "metadata": {},
   "outputs": [],
   "source": [
    "# connection, cursor 생성 -> with 문으로 작성.\n",
    "# manual commit 이 default. \n",
    "##  DML(insert/update/delete) 처리 후 commit을 실행해야한다.\n",
    "with pymysql.connect(host=\"127.0.0.1\", port=3306, user=\"scott\", password=\"tiger\", db=\"mydb\") as conn:\n",
    "    with conn.cursor() as cursor:\n",
    "        result = cursor.execute(sql)\n",
    "        print(\"처리 행수:\", result)\n",
    "        # commit 처리\n",
    "        conn.commit()"
   ]
  },
  {
   "cell_type": "markdown",
   "id": "c1d9de83",
   "metadata": {
    "ExecuteTime": {
     "end_time": "2022-04-19T06:23:30.323879Z",
     "start_time": "2022-04-19T06:23:30.304888Z"
    }
   },
   "source": [
    "### Parameterized Query\n",
    "\n",
    "-   Parameterized Query\n",
    "    -   SQL 문에서 컬럼 값이 들어가는 자리에 값대신 `%s` placeholder를 사용한뒤 execute()에서 placeholder에 넣을 값을 list나 tuple로 제공한다.\n",
    "    -   동일한 쿼리문을 값을 바꿔가면서 여러번 실행할 때 유용하다.\n"
   ]
  },
  {
   "cell_type": "code",
   "execution_count": 4,
   "id": "85b23241-9ea0-4d76-8ce4-1502e5d2c49f",
   "metadata": {
    "scrolled": true
   },
   "outputs": [
    {
     "name": "stdin",
     "output_type": "stream",
     "text": [
      "이름: 가나다\n",
      "이메일주소: abc@a.com\n"
     ]
    },
    {
     "name": "stdout",
     "output_type": "stream",
     "text": [
      "처리 행수: 1\n"
     ]
    }
   ],
   "source": [
    "import pymysql\n",
    "\n",
    "# insert할 값 입력받기\n",
    "name = input(\"이름:\")\n",
    "email = input(\"이메일주소:\")\n",
    "\n",
    "# SQL 실행\n",
    "insert_sql = \"insert into customer (name, email, tall, birthday, created_at) values (%s, %s, %s, %s, now())\"\n",
    "\n",
    "with pymysql.connect(host=\"127.0.0.1\", port=3306, user='scott', password='tiger', db='mydb') as conn:\n",
    "    with conn.cursor() as cursor:\n",
    "        result = cursor.execute(insert_sql, [name, email, 175.23, \"2010-01-01\"])\n",
    "        conn.commit()\n",
    "        print(\"처리 행수:\", result)"
   ]
  },
  {
   "cell_type": "markdown",
   "id": "7322f3bb",
   "metadata": {},
   "source": [
    "#### Parameterized Query를 이용해 여러개 행 insert\n",
    "\n",
    "- executemany() 사용\n",
    "    - insert할 값들을 가진 리스트를 넣어 한번에 여러 행을 insert한다.\n"
   ]
  },
  {
   "cell_type": "code",
   "execution_count": 6,
   "id": "f72beeb1",
   "metadata": {},
   "outputs": [],
   "source": [
    "from datetime import datetime, date\n",
    "datas = [\n",
    "    [\"김인영\", \"abc2@a.com\", 165, date(2005, 1, 12), datetime.now()],\n",
    "    [\"오수철\", \"def2@a.com\", 175, date(1995, 12, 20), datetime.now()],\n",
    "    [\"최유명\", \"ghi2@a.com\", 183, date(1978, 10, 28), datetime.now()],\n",
    "    [\"김명수\", \"jkl@abc.com\", 177, date(2000, 2, 12), datetime.now()],\n",
    "    [\"이지영\", \"mno@abc.com\", 163, date(1995, 4, 21), datetime.now()],\n",
    "    [\"박명수\", \"pqr@abc.com\", 185, date(2002, 7, 5), datetime.now()],\n",
    "]"
   ]
  },
  {
   "cell_type": "code",
   "execution_count": 7,
   "id": "2792bae6",
   "metadata": {},
   "outputs": [
    {
     "name": "stdout",
     "output_type": "stream",
     "text": [
      "insert된 총 행수: 6\n"
     ]
    }
   ],
   "source": [
    "insert_sql = \"insert into customer(name, email, tall, birthday, created_at) values(%s, %s, %s, %s, %s)\"\n",
    "with pymysql.connect(host=\"127.0.0.1\", port=3306, user='scott', password='tiger', db='mydb') as conn:\n",
    "    with conn.cursor() as cursor:\n",
    "        cnt = cursor.executemany(insert_sql, datas)  # executemany() 결과 행수 반환. for문 대신 돌려주는것\n",
    "        conn.commit()\n",
    "\n",
    "print(\"insert된 총 행수:\", cnt)"
   ]
  },
  {
   "cell_type": "markdown",
   "id": "d78f4253",
   "metadata": {},
   "source": [
    "### update/delete\n",
    "\n",
    "-   코딩 절차는 insert 와 동일\n"
   ]
  },
  {
   "cell_type": "code",
   "execution_count": 13,
   "id": "5f056266",
   "metadata": {},
   "outputs": [
    {
     "name": "stdin",
     "output_type": "stream",
     "text": [
      "변경할 키:  180\n",
      "변경할 고객 ID:  1\n",
      "이메일 :  aaaaa@a.com\n"
     ]
    },
    {
     "name": "stdout",
     "output_type": "stream",
     "text": [
      "처리 행수:  1\n"
     ]
    }
   ],
   "source": [
    "update_sql = \"update customer set email=%s, tall=%s where id=%s\"\n",
    "tall = float(input(\"변경할 키: \"))\n",
    "cust_id = int(input(\"변경할 고객 ID: \"))\n",
    "email = str(input(\"이메일 : \"))\n",
    "\n",
    "with pymysql.connect(host=\"127.0.0.1\", port=3306, user='scott', password='tiger', db='mydb') as conn:\n",
    "    with conn.cursor() as cursor:\n",
    "        result = cursor.execute(update_sql, [email, tall, cust_id])\n",
    "        print(\"처리 행수: \", result)\n",
    "        conn.commit()"
   ]
  },
  {
   "cell_type": "code",
   "execution_count": 14,
   "id": "55cc6af5",
   "metadata": {},
   "outputs": [
    {
     "name": "stdin",
     "output_type": "stream",
     "text": [
      "삭제기준 키: 180\n"
     ]
    },
    {
     "name": "stdout",
     "output_type": "stream",
     "text": [
      "처리 행수:  2\n"
     ]
    }
   ],
   "source": [
    "delete_sql = \"delete from customer where tall > %s\"\n",
    "\n",
    "tall = float(input(\"삭제기준 키:\"))\n",
    "\n",
    "with pymysql.connect(host=\"127.0.0.1\", port=3306, user='scott', password='tiger', db='mydb') as conn:\n",
    "    with conn.cursor() as cursor:\n",
    "        result = cursor.execute(delete_sql, [tall])\n",
    "        # result = cursor.execute(delete_sql, (tall,))  # tuple로 작업할때는 값이 하나일 때 , 까먹지 않기\n",
    "        print(\"처리 행수: \", result)\n",
    "        conn.commit()"
   ]
  },
  {
   "cell_type": "code",
   "execution_count": null,
   "id": "ea34cdb7",
   "metadata": {},
   "outputs": [],
   "source": []
  },
  {
   "cell_type": "markdown",
   "id": "096891b8",
   "metadata": {},
   "source": [
    "## select (DQL - Data Query Language)\n",
    "\n",
    "-   조회결과 조회\n",
    "    -   cursor.execute(\"select문\") 실행 후 cursor의 결과 조회 메소드(fetch메소드)를 이용해 결과를 받는다.\n",
    "-   fetch메소드\n",
    "    -   **fetchall()**\n",
    "        -   조회한 모든 행을을 반환\n",
    "    -   **fetchmany(size=개수)**\n",
    "        -   전체 조회한 행들 중 지정한 size개수 만큼 반환.\n",
    "        -   연속적으로 실행하면 다음 size개수 만큼씩 반환한다.\n",
    "        -   더 이상 조회한 결과가 없으면 빈 튜플을 반환한다.\n",
    "    -   **fetchone()**\n",
    "        -   조회결과 중 첫번째 행만 반환\n",
    "        -   주로 pk 동등 조건으로 조회한 경우 사용\n"
   ]
  },
  {
   "cell_type": "markdown",
   "id": "524f4cb8",
   "metadata": {},
   "source": [
    "### fetchall()\n"
   ]
  },
  {
   "cell_type": "code",
   "execution_count": 19,
   "id": "93a06bf2",
   "metadata": {},
   "outputs": [
    {
     "name": "stdout",
     "output_type": "stream",
     "text": [
      "조회행수: 5\n",
      "가나다의 키는 180.0\n",
      "김인영의 키는 165.0\n",
      "오수철의 키는 175.0\n",
      "김명수의 키는 177.0\n",
      "이지영의 키는 163.0\n"
     ]
    }
   ],
   "source": [
    "sql = \"select id, name, tall from customer\" \n",
    "with pymysql.connect(host=\"127.0.0.1\", port=3306, user='scott', password='tiger', db='mydb') as conn:\n",
    "    with conn.cursor() as cursor:\n",
    "        result = cursor.execute(sql)\n",
    "        print(\"조회행수:\", result)\n",
    "        resultset = cursor.fetchall()\n",
    "\n",
    "for i in resultset :\n",
    "    print(f\"{i[1]}의 키는 {i[2]}\")"
   ]
  },
  {
   "cell_type": "code",
   "execution_count": null,
   "id": "82a62b01",
   "metadata": {},
   "outputs": [],
   "source": [
    "resultset"
   ]
  },
  {
   "cell_type": "markdown",
   "id": "2be0cc74-4dbc-4964-b2f7-d897c9fe5ccd",
   "metadata": {},
   "source": [
    "### 조회결과를 dictionary로 반환\n",
    "- pymysql.cursors.DictCursor 사용\n",
    "    - Connection 생성시 또는 Cursor 생성시 지정한다.\n",
    "- key: 컬럼명, value: 컬럼값"
   ]
  },
  {
   "cell_type": "code",
   "execution_count": 34,
   "id": "bce604d1-9215-4afc-b54a-5ff44c82d488",
   "metadata": {},
   "outputs": [
    {
     "name": "stdout",
     "output_type": "stream",
     "text": [
      "조회행수: 5\n"
     ]
    }
   ],
   "source": [
    "sql = \"select id, name, tall from customer\" \n",
    "with pymysql.connect(host=\"127.0.0.1\", port=3306, user='scott', password='tiger', db='mydb') as conn:\n",
    "    with conn.cursor(pymysql.cursors.DictCursor) as cursor:  \n",
    "        result = cursor.execute(sql)\n",
    "        print(\"조회행수:\", result)\n",
    "        resultset = cursor.fetchall()"
   ]
  },
  {
   "cell_type": "code",
   "execution_count": 35,
   "id": "e04c153c-aad0-4b4a-92d3-a19ae9d9385d",
   "metadata": {},
   "outputs": [
    {
     "name": "stdout",
     "output_type": "stream",
     "text": [
      "{'id': 1, 'name': '가나다', 'tall': 180.0}\n",
      "{'id': 2, 'name': '김인영', 'tall': 165.0}\n",
      "{'id': 3, 'name': '오수철', 'tall': 175.0}\n",
      "{'id': 5, 'name': '김명수', 'tall': 177.0}\n",
      "{'id': 6, 'name': '이지영', 'tall': 163.0}\n"
     ]
    }
   ],
   "source": [
    "for i in resultset :\n",
    "    print(i)"
   ]
  },
  {
   "cell_type": "markdown",
   "id": "b3a9867d",
   "metadata": {},
   "source": [
    "### fetchone()\n"
   ]
  },
  {
   "cell_type": "code",
   "execution_count": 36,
   "id": "97500b7b",
   "metadata": {},
   "outputs": [
    {
     "name": "stdout",
     "output_type": "stream",
     "text": [
      "조회행수: 1\n"
     ]
    }
   ],
   "source": [
    "sql = \"select * from customer where id = %s\" \n",
    "with pymysql.connect(host=\"127.0.0.1\", port=3306, user='scott', password='tiger', db='mydb') as conn:\n",
    "    with conn.cursor() as cursor:\n",
    "        result = cursor.execute(sql, [2])\n",
    "        print(\"조회행수:\", result)\n",
    "        resultset = cursor.fetchone()"
   ]
  },
  {
   "cell_type": "code",
   "execution_count": 42,
   "id": "b0eaf81d",
   "metadata": {},
   "outputs": [
    {
     "data": {
      "text/plain": [
       "'abc2@a.com'"
      ]
     },
     "execution_count": 42,
     "metadata": {},
     "output_type": "execute_result"
    }
   ],
   "source": [
    "resultset\n",
    "resultset[2]"
   ]
  },
  {
   "cell_type": "markdown",
   "id": "cc8054bc",
   "metadata": {},
   "source": [
    "### fetchmany()\n"
   ]
  },
  {
   "cell_type": "code",
   "execution_count": 43,
   "id": "7d72f49c",
   "metadata": {},
   "outputs": [
    {
     "name": "stdout",
     "output_type": "stream",
     "text": [
      "조회행수: 5\n"
     ]
    }
   ],
   "source": [
    "sql = \"select id, name, birthday from customer\" \n",
    "with pymysql.connect(host=\"127.0.0.1\", port=3306, user='scott', password='tiger', db='mydb') as conn:\n",
    "    with conn.cursor() as cursor:\n",
    "        result = cursor.execute(sql)\n",
    "        print(\"조회행수:\", result)\n",
    "        resultset1 = cursor.fetchmany(size=2)  # 처음 두개\n",
    "        resultset2 = cursor.fetchmany(size=2)  # 다음 두개\n",
    "        resultset3 = cursor.fetchmany(size=2)\n",
    "        resultset4 = cursor.fetchmany(size=2)"
   ]
  },
  {
   "cell_type": "code",
   "execution_count": 44,
   "id": "50fffed5",
   "metadata": {},
   "outputs": [
    {
     "name": "stdout",
     "output_type": "stream",
     "text": [
      "((1, '가나다', datetime.date(2010, 1, 1)), (2, '김인영', datetime.date(2005, 1, 12)))\n",
      "((3, '오수철', datetime.date(1995, 12, 20)), (5, '김명수', datetime.date(2000, 2, 12)))\n",
      "((6, '이지영', datetime.date(1995, 4, 21)),)\n",
      "()\n"
     ]
    }
   ],
   "source": [
    "print(resultset1)\n",
    "print(resultset2)\n",
    "print(resultset3)\n",
    "print(resultset4)"
   ]
  },
  {
   "cell_type": "markdown",
   "id": "fca900bd",
   "metadata": {},
   "source": [
    "### select문을 실행 한 cursor 는 iterable 타입\n",
    "\n",
    "-   for in 문에 select query를 실행한 cursor를 사용하면 조회결과를 한 행씩 조회할 수 있다.\n"
   ]
  },
  {
   "cell_type": "code",
   "execution_count": 47,
   "id": "8332ff67",
   "metadata": {},
   "outputs": [
    {
     "name": "stdout",
     "output_type": "stream",
     "text": [
      "1 , 가나다 , aaaaa@a.com , 180.0 , 2010-01-01 , 2024-10-10 11:17:34\n",
      "2 , 김인영 , abc2@a.com , 165.0 , 2005-01-12 , 2024-10-10 11:21:51\n",
      "3 , 오수철 , def2@a.com , 175.0 , 1995-12-20 , 2024-10-10 11:21:51\n",
      "5 , 김명수 , jkl@abc.com , 177.0 , 2000-02-12 , 2024-10-10 11:21:51\n",
      "6 , 이지영 , mno@abc.com , 163.0 , 1995-04-21 , 2024-10-10 11:21:51\n"
     ]
    }
   ],
   "source": [
    "sql = \"select * from customer\" \n",
    "with pymysql.connect(host=\"127.0.0.1\", port=3306, user='scott', password='tiger', db='mydb') as conn:\n",
    "    with conn.cursor() as cursor:\n",
    "        result = cursor.execute(sql)\n",
    "        for id, name, email, tall, birthday, created_at in cursor:\n",
    "            print(id, name, email, tall, birthday, created_at, sep=\" , \")\n",
    "        # for v in cursor :\n",
    "            # print(v)"
   ]
  },
  {
   "cell_type": "markdown",
   "id": "64036889-7037-4a28-9c24-add39347136a",
   "metadata": {},
   "source": [
    "### database.py 모듈 활용해서 함수 실행"
   ]
  },
  {
   "cell_type": "code",
   "execution_count": 51,
   "id": "94838ae5-9a11-4c6a-9bc0-ad72cf6225a8",
   "metadata": {},
   "outputs": [],
   "source": [
    "from database import HRDao\n",
    "import configparser as parser"
   ]
  },
  {
   "cell_type": "code",
   "execution_count": 67,
   "id": "79f2140c-b18c-48a6-a077-24141ab391b1",
   "metadata": {},
   "outputs": [
    {
     "name": "stdout",
     "output_type": "stream",
     "text": [
      "host : 127.0.0.1\n",
      "{'emp_id': 100, 'emp_name': 'Steven', 'dept_name': 'Executive', 'job_title': 'President', 'hire_date': datetime.date(2024, 10, 8), 'salary': '$51,000'}\n",
      "{'emp_id': 101, 'emp_name': 'Neena', 'dept_name': 'Executive', 'job_title': 'Administration Vice President', 'hire_date': datetime.date(2024, 10, 8), 'salary': '$17,000'}\n",
      "{'emp_id': 102, 'emp_name': 'Lex', 'dept_name': 'Executive', 'job_title': 'Administration Vice President', 'hire_date': datetime.date(2024, 10, 8), 'salary': '$17,000'}\n",
      "{'emp_id': 103, 'emp_name': 'Alexander', 'dept_name': 'IT', 'job_title': 'Programmer', 'hire_date': datetime.date(2024, 10, 8), 'salary': '$27,000'}\n",
      "{'emp_id': 104, 'emp_name': 'Bruce', 'dept_name': 'IT', 'job_title': 'Programmer', 'hire_date': datetime.date(2024, 10, 8), 'salary': '$18,000'}\n",
      "{'emp_id': 105, 'emp_name': 'David', 'dept_name': 'IT', 'job_title': 'Programmer', 'hire_date': datetime.date(2024, 10, 8), 'salary': '$14,400'}\n",
      "{'emp_id': 106, 'emp_name': 'Valli', 'dept_name': 'IT', 'job_title': 'Programmer', 'hire_date': datetime.date(2024, 10, 8), 'salary': '$14,400'}\n",
      "{'emp_id': 107, 'emp_name': 'Diana', 'dept_name': 'IT', 'job_title': 'Programmer', 'hire_date': datetime.date(2024, 10, 8), 'salary': '$12,600'}\n",
      "{'emp_id': 108, 'emp_name': 'Nancy', 'dept_name': 'Finance', 'job_title': 'Finance Manager', 'hire_date': datetime.date(2024, 10, 8), 'salary': '$12,008'}\n",
      "{'emp_id': 109, 'emp_name': 'Daniel', 'dept_name': 'Finance', 'job_title': 'Accountant', 'hire_date': datetime.date(2024, 10, 8), 'salary': '$9,000'}\n",
      "{'emp_id': 110, 'emp_name': 'John', 'dept_name': 'Finance', 'job_title': 'Accountant', 'hire_date': datetime.date(2024, 10, 8), 'salary': '$8,200'}\n",
      "{'emp_id': 111, 'emp_name': 'Ismael', 'dept_name': 'Finance', 'job_title': 'Accountant', 'hire_date': datetime.date(2024, 10, 8), 'salary': '$7,700'}\n",
      "{'emp_id': 112, 'emp_name': 'Jose Manuel', 'dept_name': 'Finance', 'job_title': 'Accountant', 'hire_date': datetime.date(2024, 10, 8), 'salary': '$7,800'}\n",
      "{'emp_id': 113, 'emp_name': 'Luis', 'dept_name': 'Finance', 'job_title': 'Accountant', 'hire_date': datetime.date(2024, 10, 8), 'salary': '$6,900'}\n",
      "{'emp_id': 114, 'emp_name': 'Den', 'dept_name': 'Purchasing', 'job_title': 'Purchasing Manager', 'hire_date': datetime.date(2024, 10, 8), 'salary': '$11,000'}\n",
      "{'emp_id': 115, 'emp_name': 'Alexander', 'dept_name': 'Purchasing', 'job_title': 'Purchasing Manager', 'hire_date': datetime.date(2024, 10, 8), 'salary': '$9,100'}\n",
      "{'emp_id': 116, 'emp_name': 'Shelli', 'dept_name': 'Purchasing', 'job_title': 'Purchasing Clerk', 'hire_date': datetime.date(2024, 10, 8), 'salary': '$2,900'}\n",
      "{'emp_id': 117, 'emp_name': 'Sigal', 'dept_name': 'Purchasing', 'job_title': 'Purchasing Clerk', 'hire_date': datetime.date(2024, 10, 8), 'salary': '$2,800'}\n",
      "{'emp_id': 118, 'emp_name': 'Guy', 'dept_name': 'Purchasing', 'job_title': 'Purchasing Clerk', 'hire_date': datetime.date(2024, 10, 8), 'salary': '$2,600'}\n",
      "{'emp_id': 119, 'emp_name': 'Karen', 'dept_name': 'Purchasing', 'job_title': 'Purchasing Clerk', 'hire_date': datetime.date(2024, 10, 8), 'salary': '$2,500'}\n",
      "{'emp_id': 120, 'emp_name': 'Matthew', 'dept_name': 'Shipping', 'job_title': 'Stock Manager', 'hire_date': datetime.date(2024, 10, 8), 'salary': '$8,000'}\n",
      "{'emp_id': 121, 'emp_name': 'Adam', 'dept_name': 'Shipping', 'job_title': 'Stock Manager', 'hire_date': datetime.date(2024, 10, 8), 'salary': '$8,200'}\n",
      "{'emp_id': 122, 'emp_name': 'Payam', 'dept_name': 'Shipping', 'job_title': 'Stock Manager', 'hire_date': datetime.date(2024, 10, 8), 'salary': '$7,900'}\n",
      "{'emp_id': 123, 'emp_name': 'Shanta', 'dept_name': 'Shipping', 'job_title': 'Stock Manager', 'hire_date': datetime.date(2024, 10, 8), 'salary': '$6,500'}\n",
      "{'emp_id': 124, 'emp_name': 'Kevin', 'dept_name': 'Shipping', 'job_title': 'Stock Manager', 'hire_date': datetime.date(2024, 10, 8), 'salary': '$5,800'}\n",
      "{'emp_id': 125, 'emp_name': 'Julia', 'dept_name': 'Shipping', 'job_title': 'Stock Clerk', 'hire_date': datetime.date(2024, 10, 8), 'salary': '$3,200'}\n",
      "{'emp_id': 126, 'emp_name': 'Irene', 'dept_name': 'Shipping', 'job_title': 'Stock Clerk', 'hire_date': datetime.date(2024, 10, 8), 'salary': '$2,700'}\n",
      "{'emp_id': 127, 'emp_name': 'James', 'dept_name': 'Shipping', 'job_title': 'Stock Clerk', 'hire_date': datetime.date(2024, 10, 8), 'salary': '$2,400'}\n",
      "{'emp_id': 128, 'emp_name': 'Steven', 'dept_name': 'Shipping', 'job_title': 'Stock Clerk', 'hire_date': datetime.date(2024, 10, 8), 'salary': '$2,200'}\n",
      "{'emp_id': 129, 'emp_name': 'Laura', 'dept_name': 'Shipping', 'job_title': 'Stock Clerk', 'hire_date': datetime.date(2024, 10, 8), 'salary': '$3,300'}\n",
      "{'emp_id': 130, 'emp_name': 'Mozhe', 'dept_name': 'Shipping', 'job_title': None, 'hire_date': datetime.date(2024, 10, 8), 'salary': '$2,800'}\n",
      "{'emp_id': 131, 'emp_name': 'James', 'dept_name': 'Shipping', 'job_title': None, 'hire_date': datetime.date(2024, 10, 8), 'salary': '$2,500'}\n",
      "{'emp_id': 132, 'emp_name': 'TJ', 'dept_name': 'Shipping', 'job_title': 'Stock Clerk', 'hire_date': datetime.date(2024, 10, 8), 'salary': '$2,100'}\n",
      "{'emp_id': 133, 'emp_name': 'Jason', 'dept_name': 'Shipping', 'job_title': 'Stock Clerk', 'hire_date': datetime.date(2024, 10, 8), 'salary': '$3,300'}\n",
      "{'emp_id': 134, 'emp_name': 'Michael', 'dept_name': 'Shipping', 'job_title': 'Stock Clerk', 'hire_date': datetime.date(2024, 10, 8), 'salary': '$2,900'}\n",
      "{'emp_id': 135, 'emp_name': 'Ki', 'dept_name': 'Shipping', 'job_title': 'Stock Clerk', 'hire_date': datetime.date(2024, 10, 8), 'salary': '$2,400'}\n",
      "{'emp_id': 136, 'emp_name': 'Hazel', 'dept_name': 'Shipping', 'job_title': 'Stock Clerk', 'hire_date': datetime.date(2024, 10, 8), 'salary': '$2,200'}\n",
      "{'emp_id': 137, 'emp_name': 'Renske', 'dept_name': 'Shipping', 'job_title': 'Stock Clerk', 'hire_date': datetime.date(2024, 10, 8), 'salary': '$3,600'}\n",
      "{'emp_id': 138, 'emp_name': 'Stephen', 'dept_name': 'Shipping', 'job_title': 'Stock Clerk', 'hire_date': datetime.date(2024, 10, 8), 'salary': '$3,200'}\n",
      "{'emp_id': 139, 'emp_name': 'John', 'dept_name': 'Shipping', 'job_title': 'Stock Clerk', 'hire_date': datetime.date(2024, 10, 8), 'salary': '$2,700'}\n",
      "{'emp_id': 140, 'emp_name': 'Joshua', 'dept_name': 'Shipping', 'job_title': None, 'hire_date': datetime.date(2024, 10, 8), 'salary': '$2,500'}\n",
      "{'emp_id': 141, 'emp_name': 'Trenna', 'dept_name': 'Shipping', 'job_title': 'Stock Clerk', 'hire_date': datetime.date(2024, 10, 8), 'salary': '$3,500'}\n",
      "{'emp_id': 142, 'emp_name': 'Curtis', 'dept_name': 'Shipping', 'job_title': 'Stock Clerk', 'hire_date': datetime.date(2024, 10, 8), 'salary': '$3,100'}\n",
      "{'emp_id': 143, 'emp_name': 'Randall', 'dept_name': 'Shipping', 'job_title': 'Stock Clerk', 'hire_date': datetime.date(2024, 10, 8), 'salary': '$2,600'}\n",
      "{'emp_id': 144, 'emp_name': 'Peter', 'dept_name': 'Shipping', 'job_title': 'Stock Clerk', 'hire_date': datetime.date(2024, 10, 8), 'salary': '$2,500'}\n",
      "{'emp_id': 145, 'emp_name': 'John', 'dept_name': 'Sales', 'job_title': 'Sales Manager', 'hire_date': datetime.date(2024, 10, 8), 'salary': '$14,000'}\n",
      "{'emp_id': 146, 'emp_name': 'Karen', 'dept_name': 'Sales', 'job_title': 'Sales Manager', 'hire_date': datetime.date(2024, 10, 8), 'salary': '$13,500'}\n",
      "{'emp_id': 147, 'emp_name': 'Alberto', 'dept_name': 'Sales', 'job_title': 'Sales Manager', 'hire_date': datetime.date(2024, 10, 8), 'salary': '$12,000'}\n",
      "{'emp_id': 150, 'emp_name': 'Peter', 'dept_name': 'Sales', 'job_title': 'Sales Representative', 'hire_date': datetime.date(2024, 10, 8), 'salary': '$10,000'}\n",
      "{'emp_id': 151, 'emp_name': 'David', 'dept_name': 'Sales', 'job_title': 'Sales Representative', 'hire_date': datetime.date(2024, 10, 8), 'salary': '$9,500'}\n",
      "{'emp_id': 152, 'emp_name': 'Peter', 'dept_name': 'Sales', 'job_title': 'Sales Representative', 'hire_date': datetime.date(2024, 10, 8), 'salary': '$9,000'}\n",
      "{'emp_id': 153, 'emp_name': 'Christopher', 'dept_name': 'Sales', 'job_title': 'Sales Representative', 'hire_date': datetime.date(2024, 10, 8), 'salary': '$8,000'}\n",
      "{'emp_id': 154, 'emp_name': 'Nanette', 'dept_name': 'Sales', 'job_title': 'Sales Representative', 'hire_date': datetime.date(2024, 10, 8), 'salary': '$7,500'}\n",
      "{'emp_id': 155, 'emp_name': 'Oliver', 'dept_name': 'Sales', 'job_title': 'Sales Representative', 'hire_date': datetime.date(2024, 10, 8), 'salary': '$7,000'}\n",
      "{'emp_id': 156, 'emp_name': 'Janette', 'dept_name': 'Sales', 'job_title': 'Sales Representative', 'hire_date': datetime.date(2024, 10, 8), 'salary': '$10,000'}\n",
      "{'emp_id': 157, 'emp_name': 'Patrick', 'dept_name': 'Sales', 'job_title': 'Sales Representative', 'hire_date': datetime.date(2024, 10, 8), 'salary': '$9,500'}\n",
      "{'emp_id': 158, 'emp_name': 'Allan', 'dept_name': 'Sales', 'job_title': 'Sales Representative', 'hire_date': datetime.date(2024, 10, 8), 'salary': '$9,000'}\n",
      "{'emp_id': 159, 'emp_name': 'Lindsey', 'dept_name': 'Sales', 'job_title': 'Sales Representative', 'hire_date': datetime.date(2024, 10, 8), 'salary': '$8,000'}\n",
      "{'emp_id': 160, 'emp_name': 'Louise', 'dept_name': 'Sales', 'job_title': 'Sales Representative', 'hire_date': datetime.date(2024, 10, 8), 'salary': '$7,500'}\n",
      "{'emp_id': 161, 'emp_name': 'Sarath', 'dept_name': 'Sales', 'job_title': 'Sales Representative', 'hire_date': datetime.date(2024, 10, 8), 'salary': '$7,000'}\n",
      "{'emp_id': 162, 'emp_name': 'Clara', 'dept_name': 'Sales', 'job_title': 'Sales Representative', 'hire_date': datetime.date(2024, 10, 8), 'salary': '$10,500'}\n",
      "{'emp_id': 163, 'emp_name': 'Danielle', 'dept_name': 'Sales', 'job_title': 'Sales Representative', 'hire_date': datetime.date(2024, 10, 8), 'salary': '$9,500'}\n",
      "{'emp_id': 164, 'emp_name': 'Mattea', 'dept_name': 'Sales', 'job_title': 'Sales Representative', 'hire_date': datetime.date(2024, 10, 8), 'salary': '$7,200'}\n",
      "{'emp_id': 165, 'emp_name': 'David', 'dept_name': 'Sales', 'job_title': 'Sales Representative', 'hire_date': datetime.date(2024, 10, 8), 'salary': '$6,800'}\n",
      "{'emp_id': 166, 'emp_name': 'Sundar', 'dept_name': 'Sales', 'job_title': 'Sales Representative', 'hire_date': datetime.date(2024, 10, 8), 'salary': '$6,400'}\n",
      "{'emp_id': 167, 'emp_name': 'Amit', 'dept_name': 'Sales', 'job_title': 'Sales Representative', 'hire_date': datetime.date(2024, 10, 8), 'salary': '$6,200'}\n",
      "{'emp_id': 168, 'emp_name': 'Lisa', 'dept_name': 'Sales', 'job_title': 'Sales Representative', 'hire_date': datetime.date(2024, 10, 8), 'salary': '$11,500'}\n",
      "{'emp_id': 169, 'emp_name': 'Harrison', 'dept_name': 'Sales', 'job_title': 'Sales Representative', 'hire_date': datetime.date(2024, 10, 8), 'salary': '$10,000'}\n",
      "{'emp_id': 170, 'emp_name': 'Tayler', 'dept_name': 'Sales', 'job_title': 'Sales Representative', 'hire_date': datetime.date(2024, 10, 8), 'salary': '$9,600'}\n",
      "{'emp_id': 171, 'emp_name': 'William', 'dept_name': 'Sales', 'job_title': 'Sales Representative', 'hire_date': datetime.date(2024, 10, 8), 'salary': '$7,400'}\n",
      "{'emp_id': 172, 'emp_name': 'Elizabeth', 'dept_name': 'Sales', 'job_title': 'Sales Representative', 'hire_date': datetime.date(2024, 10, 8), 'salary': '$7,300'}\n",
      "{'emp_id': 173, 'emp_name': 'Sundita', 'dept_name': 'Sales', 'job_title': 'Sales Representative', 'hire_date': datetime.date(2024, 10, 8), 'salary': '$6,100'}\n",
      "{'emp_id': 174, 'emp_name': 'Ellen', 'dept_name': 'Sales', 'job_title': 'Sales Representative', 'hire_date': datetime.date(2024, 10, 8), 'salary': '$11,000'}\n",
      "{'emp_id': 176, 'emp_name': 'Jonathon', 'dept_name': 'Sales', 'job_title': 'Sales Representative', 'hire_date': datetime.date(2024, 10, 8), 'salary': '$8,600'}\n",
      "{'emp_id': 177, 'emp_name': 'Jack', 'dept_name': 'Sales', 'job_title': 'Sales Representative', 'hire_date': datetime.date(2024, 10, 8), 'salary': '$8,400'}\n",
      "{'emp_id': 179, 'emp_name': 'Charles', 'dept_name': 'Sales', 'job_title': 'Sales Representative', 'hire_date': datetime.date(2024, 10, 8), 'salary': '$6,200'}\n",
      "{'emp_id': 180, 'emp_name': 'Winston', 'dept_name': 'Shipping', 'job_title': 'Shipping Clerk', 'hire_date': datetime.date(2024, 10, 8), 'salary': '$3,200'}\n",
      "{'emp_id': 181, 'emp_name': 'Jean', 'dept_name': 'Shipping', 'job_title': 'Shipping Clerk', 'hire_date': datetime.date(2024, 10, 8), 'salary': '$3,100'}\n",
      "{'emp_id': 182, 'emp_name': 'Martha', 'dept_name': 'Shipping', 'job_title': 'Shipping Clerk', 'hire_date': datetime.date(2024, 10, 8), 'salary': '$2,500'}\n",
      "{'emp_id': 186, 'emp_name': 'Julia', 'dept_name': 'Shipping', 'job_title': 'Shipping Clerk', 'hire_date': datetime.date(2024, 10, 8), 'salary': '$3,400'}\n",
      "{'emp_id': 187, 'emp_name': 'Anthony', 'dept_name': 'Shipping', 'job_title': None, 'hire_date': datetime.date(2024, 10, 8), 'salary': '$3,000'}\n",
      "{'emp_id': 188, 'emp_name': 'Kelly', 'dept_name': 'Shipping', 'job_title': 'Shipping Clerk', 'hire_date': datetime.date(2024, 10, 8), 'salary': '$3,800'}\n",
      "{'emp_id': 189, 'emp_name': 'Jennifer', 'dept_name': 'Shipping', 'job_title': 'Shipping Clerk', 'hire_date': datetime.date(2024, 10, 8), 'salary': '$3,600'}\n",
      "{'emp_id': 190, 'emp_name': 'Timothy', 'dept_name': 'Shipping', 'job_title': None, 'hire_date': datetime.date(2024, 10, 8), 'salary': '$2,900'}\n",
      "{'emp_id': 191, 'emp_name': 'Randall', 'dept_name': 'Shipping', 'job_title': None, 'hire_date': datetime.date(2024, 10, 8), 'salary': '$2,500'}\n",
      "{'emp_id': 192, 'emp_name': 'Sarah', 'dept_name': 'Shipping', 'job_title': 'Shipping Clerk', 'hire_date': datetime.date(2024, 10, 8), 'salary': '$4,000'}\n",
      "{'emp_id': 193, 'emp_name': 'Britney', 'dept_name': 'Shipping', 'job_title': 'Shipping Clerk', 'hire_date': datetime.date(2024, 10, 8), 'salary': '$3,900'}\n",
      "{'emp_id': 194, 'emp_name': 'Samuel', 'dept_name': 'Shipping', 'job_title': 'Shipping Clerk', 'hire_date': datetime.date(2024, 10, 8), 'salary': '$3,200'}\n",
      "{'emp_id': 195, 'emp_name': 'Vance', 'dept_name': 'Shipping', 'job_title': 'Shipping Clerk', 'hire_date': datetime.date(2024, 10, 8), 'salary': '$2,800'}\n",
      "{'emp_id': 196, 'emp_name': 'Alana', 'dept_name': 'Shipping', 'job_title': 'Shipping Clerk', 'hire_date': datetime.date(2024, 10, 8), 'salary': '$3,100'}\n",
      "{'emp_id': 197, 'emp_name': 'Kevin', 'dept_name': 'Shipping', 'job_title': 'Shipping Clerk', 'hire_date': datetime.date(2024, 10, 8), 'salary': '$3,000'}\n",
      "{'emp_id': 198, 'emp_name': 'Donald', 'dept_name': 'Shipping', 'job_title': 'Shipping Clerk', 'hire_date': datetime.date(2024, 10, 8), 'salary': '$2,600'}\n",
      "{'emp_id': 199, 'emp_name': 'Douglas', 'dept_name': 'Shipping', 'job_title': 'Shipping Clerk', 'hire_date': datetime.date(2024, 10, 8), 'salary': '$2,600'}\n",
      "{'emp_id': 201, 'emp_name': 'Michael', 'dept_name': 'Marketing', 'job_title': 'Marketing Manager', 'hire_date': datetime.date(2024, 10, 8), 'salary': '$13,000'}\n",
      "{'emp_id': 202, 'emp_name': 'Pat', 'dept_name': 'Marketing', 'job_title': 'Marketing Representative', 'hire_date': datetime.date(2024, 10, 8), 'salary': '$6,000'}\n",
      "{'emp_id': 203, 'emp_name': 'Susan', 'dept_name': 'Human Resources', 'job_title': 'Human Resources Representative', 'hire_date': datetime.date(2024, 10, 8), 'salary': '$6,500'}\n",
      "{'emp_id': 204, 'emp_name': 'Hermann', 'dept_name': 'Public Relations', 'job_title': 'Public Relations Representative', 'hire_date': datetime.date(2024, 10, 8), 'salary': '$10,000'}\n",
      "{'emp_id': 205, 'emp_name': 'Shelley', 'dept_name': 'Accounting', 'job_title': 'Accounting Manager', 'hire_date': datetime.date(2024, 10, 8), 'salary': '$12,008'}\n",
      "{'emp_id': 206, 'emp_name': 'William', 'dept_name': 'Accounting', 'job_title': 'Public Accountant', 'hire_date': datetime.date(2024, 10, 8), 'salary': '$8,300'}\n",
      "(110, 'Accounting', 'Seattle')\n",
      "(160, 'Benefits', 'Seattle')\n",
      "(180, 'Construction', 'Seattle')\n",
      "(190, 'Contracting', 'Seattle')\n",
      "(140, 'Control And Credit', 'Seattle')\n",
      "(130, 'Corporate Tax', 'Seattle')\n",
      "(90, 'Executive', 'Seattle')\n",
      "(100, 'Finance', 'Seattle')\n",
      "(240, 'Government Sales', 'Seattle')\n",
      "(40, 'Human Resources', 'New York')\n",
      "(60, 'IT', 'San Francisco')\n",
      "(230, 'IT Helpdesk', 'Seattle')\n",
      "(210, 'IT Support', 'Seattle')\n",
      "(170, 'Manufacturing', 'Seattle')\n",
      "(20, 'Marketing', 'New York')\n",
      "(220, 'NOC', 'Seattle')\n",
      "(270, 'Payroll', 'Seattle')\n",
      "(70, 'Public Relations', 'New York')\n",
      "(30, 'Purchasing', 'Seattle')\n",
      "(260, 'Recruiting', 'Seattle')\n",
      "(250, 'Retail Sales', 'Seattle')\n",
      "(80, 'Sales', 'New York')\n",
      "(150, 'Shareholder Services', 'Seattle')\n",
      "(50, 'Shipping', 'San Francisco')\n",
      "(120, 'Treasury', 'Seattle')\n"
     ]
    }
   ],
   "source": [
    "### configparser에서 mysql 정보 저장\n",
    "props = parser.ConfigParser()\n",
    "props.read('./config.ini')\n",
    "mysql_config = props['MYSQL'] # 설정 정보 조회\n",
    "print('host :', mysql_config['host'])\n",
    "\n",
    "hr = HRDao(mysql_config['host'], 3306, mysql_config['user'], mysql_config['password'], mysql_config['db'])\n",
    "hr.select_job()\n",
    "all_emp = hr.select_all_emp()\n",
    "for i in all_emp :\n",
    "    print(i)\n",
    "\n",
    "all_dept = hr.select_dept()\n",
    "for i in all_dept :\n",
    "    print(i)"
   ]
  },
  {
   "cell_type": "code",
   "execution_count": null,
   "id": "c3125f5a-308e-4dff-8af5-ea6b16443ba2",
   "metadata": {},
   "outputs": [],
   "source": []
  }
 ],
 "metadata": {
  "kernelspec": {
   "display_name": "Python 3 (ipykernel)",
   "language": "python",
   "name": "python3"
  },
  "language_info": {
   "codemirror_mode": {
    "name": "ipython",
    "version": 3
   },
   "file_extension": ".py",
   "mimetype": "text/x-python",
   "name": "python",
   "nbconvert_exporter": "python",
   "pygments_lexer": "ipython3",
   "version": "3.12.4"
  },
  "toc": {
   "base_numbering": 1,
   "nav_menu": {},
   "number_sections": false,
   "sideBar": true,
   "skip_h1_title": false,
   "title_cell": "Table of Contents",
   "title_sidebar": "Contents",
   "toc_cell": false,
   "toc_position": {},
   "toc_section_display": true,
   "toc_window_display": false
  },
  "varInspector": {
   "cols": {
    "lenName": 16,
    "lenType": 16,
    "lenVar": 40
   },
   "kernels_config": {
    "python": {
     "delete_cmd_postfix": "",
     "delete_cmd_prefix": "del ",
     "library": "var_list.py",
     "varRefreshCmd": "print(var_dic_list())"
    },
    "r": {
     "delete_cmd_postfix": ") ",
     "delete_cmd_prefix": "rm(",
     "library": "var_list.r",
     "varRefreshCmd": "cat(var_dic_list()) "
    }
   },
   "types_to_exclude": [
    "module",
    "function",
    "builtin_function_or_method",
    "instance",
    "_Feature"
   ],
   "window_display": false
  }
 },
 "nbformat": 4,
 "nbformat_minor": 5
}
