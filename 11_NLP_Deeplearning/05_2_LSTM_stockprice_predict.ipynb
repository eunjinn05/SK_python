{
 "cells": [
  {
   "cell_type": "markdown",
   "id": "92933e86-724b-4568-a2ea-8951db5fee6e",
   "metadata": {},
   "source": [
    "# 삼성전자 주가 데이터 다운로드\n",
    "- Yahoo Finance 에서 주가 데이터 다운로드 (https://finance.yahoo.com/)\n",
    "    - 검색 키워드 '005930.KS' 입력\n",
    "- 검색 후 Historical Data 선택\n",
    "\n",
    "![yahoo finance](figures/rnn/21_yahoo_stock1.png)"
   ]
  },
  {
   "cell_type": "markdown",
   "id": "59ac250f-e525-49b6-93bd-a1e361d27224",
   "metadata": {},
   "source": [
    "- `Start Date: 2000년 1월 4일 End Date: 오늘날짜` 선택\n",
    "- **Apply 버튼** 클릭 후 다운로드\n",
    "  \n",
    "![yahoo finance](figures/rnn/22_yahoo_stock2.png)"
   ]
  },
  {
   "cell_type": "code",
   "execution_count": 22,
   "id": "e8862e3a-6cb1-44f0-a7c0-fd62fd73352b",
   "metadata": {},
   "outputs": [
    {
     "data": {
      "text/plain": [
       "'cpu'"
      ]
     },
     "execution_count": 22,
     "metadata": {},
     "output_type": "execute_result"
    }
   ],
   "source": [
    "import os\n",
    "import time\n",
    "\n",
    "import numpy as np\n",
    "import pandas as pd\n",
    "import matplotlib.pyplot as plt\n",
    "\n",
    "import torch\n",
    "import torch.nn as nn\n",
    "from torch.utils.data import TensorDataset, DataLoader\n",
    "import torchinfo\n",
    "\n",
    "from sklearn.preprocessing import MinMaxScaler, StandardScaler\n",
    "from sklearn.model_selection import train_test_split  \n",
    "\n",
    "device = 'cuda' if torch.cuda.is_available() else 'cpu'\n",
    "device"
   ]
  },
  {
   "cell_type": "markdown",
   "id": "f0e09c6c-fea4-4baa-9c22-a4c28a2b8d1f",
   "metadata": {},
   "source": [
    "# DataLoading"
   ]
  },
  {
   "cell_type": "code",
   "execution_count": 2,
   "id": "b669887d-c907-4a0b-97cb-e9f9ad551c88",
   "metadata": {},
   "outputs": [
    {
     "name": "stdout",
     "output_type": "stream",
     "text": [
      "<class 'pandas.core.frame.DataFrame'>\n",
      "RangeIndex: 6122 entries, 0 to 6121\n",
      "Data columns (total 7 columns):\n",
      " #   Column     Non-Null Count  Dtype  \n",
      "---  ------     --------------  -----  \n",
      " 0   Date       6122 non-null   object \n",
      " 1   Open       6122 non-null   float64\n",
      " 2   High       6122 non-null   float64\n",
      " 3   Low        6122 non-null   float64\n",
      " 4   Close      6122 non-null   float64\n",
      " 5   Adj Close  6122 non-null   float64\n",
      " 6   Volume     6122 non-null   int64  \n",
      "dtypes: float64(5), int64(1), object(1)\n",
      "memory usage: 334.9+ KB\n"
     ]
    }
   ],
   "source": [
    "df = pd.read_csv('dataset/005930.KS.csv')\n",
    "\n",
    "df.info()"
   ]
  },
  {
   "cell_type": "code",
   "execution_count": 3,
   "id": "09b882c5-3d1b-4dec-8df4-ad2d2ca59d49",
   "metadata": {},
   "outputs": [
    {
     "data": {
      "text/html": [
       "<div>\n",
       "<style scoped>\n",
       "    .dataframe tbody tr th:only-of-type {\n",
       "        vertical-align: middle;\n",
       "    }\n",
       "\n",
       "    .dataframe tbody tr th {\n",
       "        vertical-align: top;\n",
       "    }\n",
       "\n",
       "    .dataframe thead th {\n",
       "        text-align: right;\n",
       "    }\n",
       "</style>\n",
       "<table border=\"1\" class=\"dataframe\">\n",
       "  <thead>\n",
       "    <tr style=\"text-align: right;\">\n",
       "      <th></th>\n",
       "      <th>Open</th>\n",
       "      <th>High</th>\n",
       "      <th>Low</th>\n",
       "      <th>Close</th>\n",
       "      <th>Adj Close</th>\n",
       "      <th>Volume</th>\n",
       "    </tr>\n",
       "    <tr>\n",
       "      <th>Date</th>\n",
       "      <th></th>\n",
       "      <th></th>\n",
       "      <th></th>\n",
       "      <th></th>\n",
       "      <th></th>\n",
       "      <th></th>\n",
       "    </tr>\n",
       "  </thead>\n",
       "  <tbody>\n",
       "    <tr>\n",
       "      <th>2000-01-04</th>\n",
       "      <td>6000.0</td>\n",
       "      <td>6110.0</td>\n",
       "      <td>5660.0</td>\n",
       "      <td>6110.0</td>\n",
       "      <td>4449.711426</td>\n",
       "      <td>74195000</td>\n",
       "    </tr>\n",
       "    <tr>\n",
       "      <th>2000-01-05</th>\n",
       "      <td>5800.0</td>\n",
       "      <td>6060.0</td>\n",
       "      <td>5520.0</td>\n",
       "      <td>5580.0</td>\n",
       "      <td>4063.728760</td>\n",
       "      <td>74680000</td>\n",
       "    </tr>\n",
       "    <tr>\n",
       "      <th>2000-01-06</th>\n",
       "      <td>5750.0</td>\n",
       "      <td>5780.0</td>\n",
       "      <td>5580.0</td>\n",
       "      <td>5620.0</td>\n",
       "      <td>4092.860107</td>\n",
       "      <td>54390000</td>\n",
       "    </tr>\n",
       "    <tr>\n",
       "      <th>2000-01-07</th>\n",
       "      <td>5560.0</td>\n",
       "      <td>5670.0</td>\n",
       "      <td>5360.0</td>\n",
       "      <td>5540.0</td>\n",
       "      <td>4034.597656</td>\n",
       "      <td>40305000</td>\n",
       "    </tr>\n",
       "    <tr>\n",
       "      <th>2000-01-10</th>\n",
       "      <td>5600.0</td>\n",
       "      <td>5770.0</td>\n",
       "      <td>5580.0</td>\n",
       "      <td>5770.0</td>\n",
       "      <td>4202.100586</td>\n",
       "      <td>46880000</td>\n",
       "    </tr>\n",
       "  </tbody>\n",
       "</table>\n",
       "</div>"
      ],
      "text/plain": [
       "              Open    High     Low   Close    Adj Close    Volume\n",
       "Date                                                             \n",
       "2000-01-04  6000.0  6110.0  5660.0  6110.0  4449.711426  74195000\n",
       "2000-01-05  5800.0  6060.0  5520.0  5580.0  4063.728760  74680000\n",
       "2000-01-06  5750.0  5780.0  5580.0  5620.0  4092.860107  54390000\n",
       "2000-01-07  5560.0  5670.0  5360.0  5540.0  4034.597656  40305000\n",
       "2000-01-10  5600.0  5770.0  5580.0  5770.0  4202.100586  46880000"
      ]
     },
     "execution_count": 3,
     "metadata": {},
     "output_type": "execute_result"
    }
   ],
   "source": [
    "# Date를 index로 변환\n",
    "df = df.set_index('Date')\n",
    "df.head()"
   ]
  },
  {
   "cell_type": "code",
   "execution_count": 5,
   "id": "1f0fcfa5",
   "metadata": {},
   "outputs": [],
   "source": [
    "df.drop(columns='Adj Close', inplace=True)"
   ]
  },
  {
   "cell_type": "markdown",
   "id": "b01d69fb",
   "metadata": {},
   "source": [
    "# Dataset 구성\n",
    "## input, output data\n",
    "- input (X)) feature 구성: \\[Open, High, Low, Close, Volumn  (Adj Close 제외)\\] 50일치\n",
    "- output (y) : Close - input 다음날 Close가격"
   ]
  },
  {
   "cell_type": "code",
   "execution_count": 6,
   "id": "baef8cb4-7212-41d4-92c4-d391e164f0e6",
   "metadata": {},
   "outputs": [
    {
     "data": {
      "text/plain": [
       "((6122, 5), (6122, 1))"
      ]
     },
     "execution_count": 6,
     "metadata": {},
     "output_type": "execute_result"
    }
   ],
   "source": [
    "df_y = df['Close'].to_frame()\n",
    "df_X = df\n",
    "\n",
    "df_X.shape, df_y.shape"
   ]
  },
  {
   "cell_type": "code",
   "execution_count": 7,
   "id": "2b294960-6560-4cba-8079-c8498f956356",
   "metadata": {},
   "outputs": [
    {
     "data": {
      "text/html": [
       "<div>\n",
       "<style scoped>\n",
       "    .dataframe tbody tr th:only-of-type {\n",
       "        vertical-align: middle;\n",
       "    }\n",
       "\n",
       "    .dataframe tbody tr th {\n",
       "        vertical-align: top;\n",
       "    }\n",
       "\n",
       "    .dataframe thead th {\n",
       "        text-align: right;\n",
       "    }\n",
       "</style>\n",
       "<table border=\"1\" class=\"dataframe\">\n",
       "  <thead>\n",
       "    <tr style=\"text-align: right;\">\n",
       "      <th></th>\n",
       "      <th>Open</th>\n",
       "      <th>High</th>\n",
       "      <th>Low</th>\n",
       "      <th>Close</th>\n",
       "      <th>Volume</th>\n",
       "    </tr>\n",
       "    <tr>\n",
       "      <th>Date</th>\n",
       "      <th></th>\n",
       "      <th></th>\n",
       "      <th></th>\n",
       "      <th></th>\n",
       "      <th></th>\n",
       "    </tr>\n",
       "  </thead>\n",
       "  <tbody>\n",
       "    <tr>\n",
       "      <th>2000-01-04</th>\n",
       "      <td>6000.0</td>\n",
       "      <td>6110.0</td>\n",
       "      <td>5660.0</td>\n",
       "      <td>6110.0</td>\n",
       "      <td>74195000</td>\n",
       "    </tr>\n",
       "    <tr>\n",
       "      <th>2000-01-05</th>\n",
       "      <td>5800.0</td>\n",
       "      <td>6060.0</td>\n",
       "      <td>5520.0</td>\n",
       "      <td>5580.0</td>\n",
       "      <td>74680000</td>\n",
       "    </tr>\n",
       "    <tr>\n",
       "      <th>2000-01-06</th>\n",
       "      <td>5750.0</td>\n",
       "      <td>5780.0</td>\n",
       "      <td>5580.0</td>\n",
       "      <td>5620.0</td>\n",
       "      <td>54390000</td>\n",
       "    </tr>\n",
       "    <tr>\n",
       "      <th>2000-01-07</th>\n",
       "      <td>5560.0</td>\n",
       "      <td>5670.0</td>\n",
       "      <td>5360.0</td>\n",
       "      <td>5540.0</td>\n",
       "      <td>40305000</td>\n",
       "    </tr>\n",
       "    <tr>\n",
       "      <th>2000-01-10</th>\n",
       "      <td>5600.0</td>\n",
       "      <td>5770.0</td>\n",
       "      <td>5580.0</td>\n",
       "      <td>5770.0</td>\n",
       "      <td>46880000</td>\n",
       "    </tr>\n",
       "    <tr>\n",
       "      <th>...</th>\n",
       "      <td>...</td>\n",
       "      <td>...</td>\n",
       "      <td>...</td>\n",
       "      <td>...</td>\n",
       "      <td>...</td>\n",
       "    </tr>\n",
       "    <tr>\n",
       "      <th>2024-05-30</th>\n",
       "      <td>74800.0</td>\n",
       "      <td>75200.0</td>\n",
       "      <td>73500.0</td>\n",
       "      <td>73500.0</td>\n",
       "      <td>28551273</td>\n",
       "    </tr>\n",
       "    <tr>\n",
       "      <th>2024-05-31</th>\n",
       "      <td>74500.0</td>\n",
       "      <td>74700.0</td>\n",
       "      <td>73500.0</td>\n",
       "      <td>73500.0</td>\n",
       "      <td>26198776</td>\n",
       "    </tr>\n",
       "    <tr>\n",
       "      <th>2024-06-03</th>\n",
       "      <td>74400.0</td>\n",
       "      <td>76400.0</td>\n",
       "      <td>74200.0</td>\n",
       "      <td>75700.0</td>\n",
       "      <td>15706268</td>\n",
       "    </tr>\n",
       "    <tr>\n",
       "      <th>2024-06-04</th>\n",
       "      <td>74900.0</td>\n",
       "      <td>76100.0</td>\n",
       "      <td>74900.0</td>\n",
       "      <td>75300.0</td>\n",
       "      <td>14098053</td>\n",
       "    </tr>\n",
       "    <tr>\n",
       "      <th>2024-06-05</th>\n",
       "      <td>78000.0</td>\n",
       "      <td>78000.0</td>\n",
       "      <td>76800.0</td>\n",
       "      <td>77400.0</td>\n",
       "      <td>23177968</td>\n",
       "    </tr>\n",
       "  </tbody>\n",
       "</table>\n",
       "<p>6122 rows × 5 columns</p>\n",
       "</div>"
      ],
      "text/plain": [
       "               Open     High      Low    Close    Volume\n",
       "Date                                                    \n",
       "2000-01-04   6000.0   6110.0   5660.0   6110.0  74195000\n",
       "2000-01-05   5800.0   6060.0   5520.0   5580.0  74680000\n",
       "2000-01-06   5750.0   5780.0   5580.0   5620.0  54390000\n",
       "2000-01-07   5560.0   5670.0   5360.0   5540.0  40305000\n",
       "2000-01-10   5600.0   5770.0   5580.0   5770.0  46880000\n",
       "...             ...      ...      ...      ...       ...\n",
       "2024-05-30  74800.0  75200.0  73500.0  73500.0  28551273\n",
       "2024-05-31  74500.0  74700.0  73500.0  73500.0  26198776\n",
       "2024-06-03  74400.0  76400.0  74200.0  75700.0  15706268\n",
       "2024-06-04  74900.0  76100.0  74900.0  75300.0  14098053\n",
       "2024-06-05  78000.0  78000.0  76800.0  77400.0  23177968\n",
       "\n",
       "[6122 rows x 5 columns]"
      ]
     },
     "execution_count": 7,
     "metadata": {},
     "output_type": "execute_result"
    }
   ],
   "source": [
    "df_X"
   ]
  },
  {
   "cell_type": "markdown",
   "id": "e9cddb41",
   "metadata": {},
   "source": [
    "## 전처리\n",
    "- feature scaling\n",
    "    - feature 간의 scaling(단위)을 맞추는 작업.\n",
    "- X: Standard Scaling (평균: 0, 표준편차: 1)\n",
    "- y: MinMax Scaling (최소: 0, 최대: 1)  => X의 scale과 비슷한 값으로 변환."
   ]
  },
  {
   "cell_type": "code",
   "execution_count": 8,
   "id": "a1a70c74-bd92-416a-9b13-e0a5f559b3bb",
   "metadata": {},
   "outputs": [],
   "source": [
    "X_scaler = StandardScaler()\n",
    "y_scaler = MinMaxScaler()\n",
    "\n",
    "X = X_scaler.fit_transform(df_X)\n",
    "y = y_scaler.fit_transform(df_y)\n"
   ]
  },
  {
   "cell_type": "markdown",
   "id": "7ae6a470-fc85-43c4-aa31-ffa22f3eb94c",
   "metadata": {},
   "source": [
    "## Input Sequential Data 구성\n",
    "- X: 50일치 데이터(ex:1일 ~ 50일), y: 51일째 주가. (ex: 51일)\n",
    "    - 50일의 연속된 주식데이터를 학습하여 51일째 주가를 예측한다.\n",
    "    - X의 한개의 데이터가 50일치 주가데이터가 된다."
   ]
  },
  {
   "cell_type": "markdown",
   "id": "d0f7da27-56d2-464f-b1ce-ae0a26259caf",
   "metadata": {},
   "source": [
    "![img](figures/rnn/20_stock_dataset.png)\n",
    "\n",
    "[연속된 날짜가 5인 경우]"
   ]
  },
  {
   "cell_type": "code",
   "execution_count": 11,
   "id": "7e3767fc-165d-4f95-955d-a9b05e27aa96",
   "metadata": {},
   "outputs": [
    {
     "data": {
      "text/plain": [
       "(6072, 50, 5)"
      ]
     },
     "execution_count": 11,
     "metadata": {},
     "output_type": "execute_result"
    }
   ],
   "source": [
    "time_steps = 50 # seq_length (몇일치 주가를 하나의 데이터로 묶을지)\n",
    "data_X = []  # input data들을 모을 리스트 X 1개 shape : (50, 5)\n",
    "data_y = []  # output data들을 모을 리스트\n",
    "\n",
    "for idx in range(0, y.size - time_steps) : # 데이터를 구성할 수 있는 51개 행이 남을 때까지 반복\n",
    "    # idx : 0 / X : 0 ~ 49 / y : 50\n",
    "    _X = X[idx:time_steps+idx]\n",
    "    _y = y[time_steps+idx]\n",
    "    data_X.append(_X)\n",
    "    data_y.append(_y)\n",
    "\n",
    "np.shape(data_X)  # (6072:batch, 50:seq_len, 5:개별 seq의 feature수)"
   ]
  },
  {
   "cell_type": "markdown",
   "id": "2e862a63-bc02-4137-bee0-f83a5edfe462",
   "metadata": {},
   "source": [
    "## Train / test set 분리"
   ]
  },
  {
   "cell_type": "code",
   "execution_count": 86,
   "id": "fe326baa-2ced-4c94-aec1-34b7b3d9c579",
   "metadata": {},
   "outputs": [
    {
     "data": {
      "text/plain": [
       "((4857, 50, 5), (1215, 50, 5))"
      ]
     },
     "execution_count": 86,
     "metadata": {},
     "output_type": "execute_result"
    }
   ],
   "source": [
    "X_train, X_test, y_train, y_test = train_test_split(data_X, data_y, test_size=0.2)\n",
    "np.shape(X_train), np.shape(X_test)"
   ]
  },
  {
   "cell_type": "code",
   "execution_count": 87,
   "id": "751480d5",
   "metadata": {},
   "outputs": [],
   "source": [
    "# list -> ndarray 변환 (list -> tensor 생성 시 속도가 느림)\n",
    "X_train, X_test, y_train, y_test = (np.array(X_train, dtype='float32'), np.array(X_test, dtype='float32'), np.array(y_train, dtype='float32'), np.array(y_test, dtype='float32'))"
   ]
  },
  {
   "cell_type": "markdown",
   "id": "de4fb806-4921-4bed-82ca-6aa1dfb4270a",
   "metadata": {},
   "source": [
    "## Dataset, DataLoader 구성"
   ]
  },
  {
   "cell_type": "code",
   "execution_count": 88,
   "id": "9ec8de07-6b8a-4566-9421-72ab9391e848",
   "metadata": {},
   "outputs": [
    {
     "data": {
      "text/plain": [
       "(4857, 1215)"
      ]
     },
     "execution_count": 88,
     "metadata": {},
     "output_type": "execute_result"
    }
   ],
   "source": [
    "# Dataset\n",
    "# 메모리에 있는 tensor가 raw data일 때 TensorDataset으로 생성\n",
    "train_set = TensorDataset(torch.tensor(X_train), torch.tensor(y_train))\n",
    "test_set = TensorDataset(torch.tensor(X_test), torch.tensor(y_test))\n",
    "\n",
    "len(train_set), len(test_set)"
   ]
  },
  {
   "cell_type": "code",
   "execution_count": 89,
   "id": "b8af3b32-f57f-4ea8-a90d-2c524043f37e",
   "metadata": {},
   "outputs": [],
   "source": [
    "train_loader = DataLoader(train_set, batch_size=200, shuffle=True, drop_last=True)\n",
    "test_loader = DataLoader(test_set, batch_size=200)"
   ]
  },
  {
   "cell_type": "markdown",
   "id": "7a3e6cbc-3787-4afd-b670-5ceebef5d207",
   "metadata": {},
   "source": [
    "# 모델 정의"
   ]
  },
  {
   "cell_type": "code",
   "execution_count": 90,
   "id": "7ce130af-7005-43e4-a3a2-87e760bd0942",
   "metadata": {},
   "outputs": [],
   "source": [
    "class StockPriceModel(torch.nn.Module) :\n",
    "\n",
    "    def __init__(self, input_size, hidden_size, num_layers, bidirectional=True, dropout_rate=0.3) :\n",
    "        super().__init__()\n",
    "        # X -> LSTM (마지막 hidden) -> dropout -> linear -> y\n",
    "        self.lstm = nn.LSTM(\n",
    "            input_size = input_size,\n",
    "            hidden_size = hidden_size,\n",
    "            num_layers = num_layers,\n",
    "            bidirectional= bidirectional,\n",
    "            dropout = dropout_rate\n",
    "        )\n",
    "        self.dropout = nn.Dropout(dropout_rate)\n",
    "        i_features= hidden_size * 2 if bidirectional else hidden_size\n",
    "        self.lr = torch.nn.Linear(i_features, 1) # 출력 : 주가 가격 1개\n",
    "        self.sigmoid = nn.Sigmoid() # 0 ~ 1 범위이므로 sigmoid 사용해서 범위 맞춤\n",
    "\n",
    "    def forward(self, X) :\n",
    "        # input X : (batch, seq_len, input_size) (200, 50, 5)\n",
    "        X = X.transpose(1,0)\n",
    "\n",
    "        # (seq_len, batch, input_size) (50, 200, 5)\n",
    "        out, _ = self.lstm(X)  # _ : (hidden_state, cell_state)\n",
    "\n",
    "        # out : [seq_len, batch, hidden_size * 2]\n",
    "        # [batch, hidden * 2]\n",
    "        last_out = self.dropout(out[-1]) \n",
    "\n",
    "        last_out = self.lr(last_out)\n",
    "        return self.sigmoid(last_out)\n"
   ]
  },
  {
   "cell_type": "code",
   "execution_count": 91,
   "id": "3d688135-8555-40b9-9b7c-353df2c69d46",
   "metadata": {},
   "outputs": [],
   "source": [
    "model = StockPriceModel(input_size=5, hidden_size=32, num_layers=1, bidirectional=True, dropout_rate=0.3)\n",
    "\n",
    "model = model.to(device)\n"
   ]
  },
  {
   "cell_type": "code",
   "execution_count": null,
   "id": "75b49fff-38e1-43e3-b187-1c042c85548d",
   "metadata": {},
   "outputs": [],
   "source": []
  },
  {
   "cell_type": "markdown",
   "id": "0d160366-9d68-4adc-89cd-841bbb84ce2f",
   "metadata": {},
   "source": [
    "### train"
   ]
  },
  {
   "cell_type": "code",
   "execution_count": 92,
   "id": "d399a379-7da0-4138-bdd3-36df72752d17",
   "metadata": {},
   "outputs": [],
   "source": [
    "optimizer = torch.optim.Adam(model.parameters(), lr=0.0001)\n",
    "loss_fn = nn.MSELoss()"
   ]
  },
  {
   "cell_type": "code",
   "execution_count": 94,
   "id": "a784e897-c655-4c37-ab2d-40db1030e36d",
   "metadata": {},
   "outputs": [
    {
     "name": "stdout",
     "output_type": "stream",
     "text": [
      "[0/100] train loss : 2.3268619030714035, valid_loss : 0.6752043440937996\n",
      "[10/100] train loss : 0.41467976197600365, valid_loss : 0.09642817731946707\n",
      "[20/100] train loss : 0.12666495982557535, valid_loss : 0.029751735273748636\n",
      "[30/100] train loss : 0.06539894547313452, valid_loss : 0.012983705382794142\n",
      "[40/100] train loss : 0.041931468644179404, valid_loss : 0.006648026523180306\n",
      "[50/100] train loss : 0.03020723961526528, valid_loss : 0.0041975697968155146\n",
      "[60/100] train loss : 0.02547951735323295, valid_loss : 0.0029998615791555494\n",
      "[70/100] train loss : 0.022748567920643836, valid_loss : 0.0022880843898747116\n",
      "[80/100] train loss : 0.020308992243371904, valid_loss : 0.0018061205773847178\n",
      "[90/100] train loss : 0.019469086779281497, valid_loss : 0.0016125383117469028\n",
      "[99/100] train loss : 0.018137942242901772, valid_loss : 0.001425305410521105\n"
     ]
    }
   ],
   "source": [
    "train_loss_list = []\n",
    "test_loss_list = []\n",
    "\n",
    "for epoch in range(100) :\n",
    "    model.train()\n",
    "    train_loss = 0.0\n",
    "    for X_train, y_train in train_loader :\n",
    "        X_train, y_train = X_train.to(device), y_train.to(device)\n",
    "        pred = model(X_train)\n",
    "        loss = loss_fn(pred, y_train)\n",
    "        loss.backward()\n",
    "        optimizer.step()\n",
    "        optimizer.zero_grad()\n",
    "        train_loss += loss.item()\n",
    "    train_loss_list.append(train_loss/len(train_loader))\n",
    "\n",
    "    model.eval()\n",
    "    test_loss = 0.0\n",
    "    with torch.no_grad() :\n",
    "        for X_test, y_test in test_loader :\n",
    "            X_test, y_test = X_test.to(device), y_test.to(device)\n",
    "            pred_test = model(X_test)\n",
    "            test_loss = test_loss + loss_fn(pred_test, y_test).item()\n",
    "        test_loss_list.append(test_loss/len(test_loader))\n",
    "    if epoch % 10 == 0 or epoch == (100 - 1) :\n",
    "        print(f'[{epoch}/{100}] train loss : {train_loss}, valid_loss : {test_loss}')"
   ]
  },
  {
   "cell_type": "code",
   "execution_count": 96,
   "id": "99619e8b-3ccb-47e1-9e11-cb4d5254381b",
   "metadata": {},
   "outputs": [
    {
     "name": "stdout",
     "output_type": "stream",
     "text": [
      "(50, 5)\n"
     ]
    }
   ],
   "source": [
    "new_data = df_X.tail(50)\n",
    "new_X = X_scaler.transform(new_data)\n",
    "print(new_X.shape)"
   ]
  },
  {
   "cell_type": "code",
   "execution_count": 97,
   "id": "0ac4fa59",
   "metadata": {},
   "outputs": [
    {
     "data": {
      "text/plain": [
       "torch.Size([1, 50, 5])"
      ]
     },
     "execution_count": 97,
     "metadata": {},
     "output_type": "execute_result"
    }
   ],
   "source": [
    "new_X = torch.tensor(new_X, dtype=torch.float32).unsqueeze(0)\n",
    "new_X.shape"
   ]
  },
  {
   "cell_type": "code",
   "execution_count": 98,
   "id": "d05a968a",
   "metadata": {},
   "outputs": [
    {
     "data": {
      "text/plain": [
       "tensor([[0.8520]])"
      ]
     },
     "execution_count": 98,
     "metadata": {},
     "output_type": "execute_result"
    }
   ],
   "source": [
    "model.eval()\n",
    "with torch.no_grad() :\n",
    "    pred = model(new_X)\n",
    "pred"
   ]
  },
  {
   "cell_type": "code",
   "execution_count": 100,
   "id": "3d243cd8",
   "metadata": {},
   "outputs": [
    {
     "data": {
      "text/plain": [
       "array([[77933.16716075]])"
      ]
     },
     "execution_count": 100,
     "metadata": {},
     "output_type": "execute_result"
    }
   ],
   "source": [
    "y_scaler.inverse_transform(pred)"
   ]
  },
  {
   "cell_type": "markdown",
   "id": "aa70bd52-4cce-4a13-9bbc-13ffdb159577",
   "metadata": {},
   "source": [
    "# 마지막 데이터로 다음날 주식가격 추론"
   ]
  },
  {
   "cell_type": "code",
   "execution_count": null,
   "id": "55541a1c-933c-46e8-aa2e-ce74a2966eb4",
   "metadata": {},
   "outputs": [],
   "source": []
  },
  {
   "cell_type": "code",
   "execution_count": null,
   "id": "0b9ced6c-2409-487f-9758-2e411f4f3203",
   "metadata": {},
   "outputs": [],
   "source": []
  },
  {
   "cell_type": "code",
   "execution_count": null,
   "id": "dfcc6b15-1b3f-4f17-ac4d-627858b4ba88",
   "metadata": {},
   "outputs": [],
   "source": []
  }
 ],
 "metadata": {
  "kernelspec": {
   "display_name": "ml",
   "language": "python",
   "name": "python3"
  },
  "language_info": {
   "codemirror_mode": {
    "name": "ipython",
    "version": 3
   },
   "file_extension": ".py",
   "mimetype": "text/x-python",
   "name": "python",
   "nbconvert_exporter": "python",
   "pygments_lexer": "ipython3",
   "version": "3.12.7"
  }
 },
 "nbformat": 4,
 "nbformat_minor": 5
}
