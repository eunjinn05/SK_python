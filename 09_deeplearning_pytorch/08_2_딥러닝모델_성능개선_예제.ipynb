{
 "cells": [
  {
   "cell_type": "markdown",
   "metadata": {},
   "source": [
    "# 성능개선 기법 실습\n"
   ]
  },
  {
   "cell_type": "markdown",
   "metadata": {},
   "source": [
    "# 모듈 정의\n"
   ]
  },
  {
   "cell_type": "markdown",
   "metadata": {},
   "source": [
    "## train.py\n",
    "\n",
    "-   모델 학습과 검증 함수 정의\n"
   ]
  },
  {
   "cell_type": "code",
   "execution_count": 10,
   "metadata": {},
   "outputs": [],
   "source": [
    "import os\n",
    "\n",
    "os.makedirs(\"module\", exist_ok=True)"
   ]
  },
  {
   "cell_type": "code",
   "execution_count": 11,
   "metadata": {
    "code_folding": []
   },
   "outputs": [
    {
     "name": "stdout",
     "output_type": "stream",
     "text": [
      "Writing module/train.py\n"
     ]
    }
   ],
   "source": [
    "%%writefile module/train.py\n",
    "\n",
    "import torch\n",
    "import time\n",
    "\n",
    "def test_multi_classification(dataloader, model, loss_fn, device=\"cpu\") -> tuple:\n",
    "    \"\"\"\n",
    "    다중 분류 검증/평가 함수\n",
    "    \n",
    "    [parameter]\n",
    "        dataloader: DataLoader - 검증할 대상 데이터로더\n",
    "        model: 검증할 모델\n",
    "        loss_fn: 모델 추정값과 정답의 차이를 계산할 loss 함수.\n",
    "        device: str - 연산을 처리할 장치. default-\"cpu\", gpu-\"cuda\"\n",
    "    [return]\n",
    "        tuple: (loss, accuracy)\n",
    "    \"\"\"\n",
    "    model.to(device)\n",
    "    model.eval() \n",
    "    size = len(dataloader.dataset)\n",
    "    num_steps = len(dataloader)\n",
    "    \n",
    "    test_loss, test_accuracy = 0., 0.\n",
    "    \n",
    "    with torch.no_grad():\n",
    "        for X, y in dataloader:\n",
    "            X, y = X.to(device), y.to(device)\n",
    "            pred = model(X)\n",
    "            test_loss += loss_fn(pred, y).item()\n",
    "            # 정확도 계산\n",
    "            pred_label = torch.argmax(pred, axis=-1)\n",
    "            test_accuracy += torch.sum(pred_label == y).item()\n",
    "            \n",
    "        test_loss /= num_steps\n",
    "        test_accuracy /= size\n",
    "    return test_loss, test_accuracy\n",
    "\n",
    "def test_binary_classification(dataloader, model, loss_fn, device=\"cpu\") -> tuple:\n",
    "    \"\"\"\n",
    "    이진 분류 검증/평가 함수\n",
    "    \n",
    "    [parameter]\n",
    "        dataloader: DataLoader - 검증할 대상 데이터로더\n",
    "        model: 검증할 모델\n",
    "        loss_fn: 모델 추정값과 정답의 차이를 계산할 loss 함수.\n",
    "        device: str - 연산을 처리할 장치. default-\"cpu\", gpu-\"cuda\"\n",
    "    [return]\n",
    "        tuple: (loss, accuracy)\n",
    "    \"\"\"\n",
    "    model.to(device)\n",
    "    model.eval() # 모델을 평가모드로 변환\n",
    "    size = len(dataloader.dataset)\n",
    "    num_steps = len(dataloader)\n",
    "    \n",
    "    test_loss, test_accuracy = 0., 0.\n",
    "    \n",
    "    with torch.no_grad():\n",
    "        for X, y in dataloader:\n",
    "            X, y = X.to(device), y.to(device)\n",
    "            pred = model(X)\n",
    "            test_loss += loss_fn(pred, y).item()\n",
    "            ## 정확도 계산\n",
    "            pred_label = (pred >= 0.5).type(torch.int32)\n",
    "            test_accuracy += (pred_label == y).sum().item() \n",
    "            \n",
    "        test_loss /= num_steps\n",
    "        test_accuracy /= size   #전체 개수로 나눈다.\n",
    "    return test_loss, test_accuracy    \n",
    "\n",
    "def train(dataloader, model, loss_fn, optimizer, device=\"cpu\", mode:\"binary or multi\"='binary'):\n",
    "    \"\"\"\n",
    "    모델을 1 epoch 학습시키는 함수\n",
    "\n",
    "    [parameter]\n",
    "        dataloader: DataLoader - 학습데이터셋을 제공하는 DataLoader\n",
    "        model - 학습대상 모델\n",
    "        loss_fn: 모델 추정값과 정답의 차이를 계산할 loss 함수.\n",
    "        optimizer - 최적화 함수\n",
    "        device: str - 연산을 처리할 장치. default-\"cpu\", gpu-\"cuda\"\n",
    "        mode: str - 분류 종류. binary 또는 multi\n",
    "    [return]\n",
    "        tuple: 학습후 계산한 Train set에 대한  train_loss, train_accuracy\n",
    "    \"\"\"\n",
    "    model.train()\n",
    "    size = len(dataloader.dataset) \n",
    "\n",
    "    for X, y in dataloader:\n",
    "        X, y = X.to(device), y.to(device)\n",
    "        pred = model(X)\n",
    "\n",
    "        loss = loss_fn(pred, y)\n",
    "\n",
    "        optimizer.zero_grad()\n",
    "        loss.backward()\n",
    "        optimizer.step()\n",
    "        \n",
    "    if mode == 'binary':\n",
    "        train_loss, train_accuracy = test_binary_classification(dataloader, model, loss_fn, device)\n",
    "    else:\n",
    "        train_loss, train_accuracy = test_multi_classification(dataloader, model, loss_fn, device)\n",
    "    return train_loss, train_accuracy\n",
    "\n",
    "\n",
    "\n",
    "def fit(train_loader, val_loader, model, loss_fn, optimizer, epochs, save_best_model=True, save_model_path=None, early_stopping=True, patience=10, device='cpu',  mode:\"binary or multi\"='binary'):\n",
    "    \"\"\"\n",
    "    모델을 학습시키는 함수\n",
    "\n",
    "    [parameter]\n",
    "        train_loader (Dataloader): Train dataloader\n",
    "        test_loader (Dataloader): validation dataloader\n",
    "        model (Module): 학습시킬 모델\n",
    "        loss_fn (_Loss): Loss function\n",
    "        optimizer (Optimizer): Optimizer\n",
    "        epochs (int): epoch수\n",
    "        save_best_model (bool, optional): 학습도중 성능개선시 모델 저장 여부. Defaults to True.\n",
    "        save_model_path (str, optional): save_best_model=True일 때 모델저장할 파일 경로. Defaults to None.\n",
    "        early_stopping (bool, optional): 조기 종료 여부. Defaults to True.\n",
    "        patience (int, optional): 조기종료 True일 때 종료전에 성능이 개선될지 몇 epoch까지 기다릴지 epoch수. Defaults to 10.\n",
    "        device (str, optional): device. Defaults to 'cpu'.\n",
    "        mode(str, optinal): 분류 종류. \"binary(default) or multi\n",
    "    [return]\n",
    "        tuple: 에폭 별 성능 리스트. (train_loss_list, train_accuracy_list, validation_loss_list, validataion_accuracy_list)\n",
    "    \"\"\"\n",
    "\n",
    "    train_loss_list = []\n",
    "    train_accuracy_list = []\n",
    "    val_loss_list = []\n",
    "    val_accuracy_list = []\n",
    "    \n",
    "        \n",
    "    if save_best_model:\n",
    "        best_score_save = torch.inf\n",
    "\n",
    "    ############################\n",
    "    # early stopping\n",
    "    #############################\n",
    "    if early_stopping:\n",
    "        trigger_count = 0\n",
    "        best_score_es = torch.inf\n",
    "    \n",
    "    # 모델 device로 옮기기\n",
    "    model = model.to(device)\n",
    "    s = time.time()\n",
    "    for epoch in range(epochs):\n",
    "        train_loss, train_accuracy = train(train_loader, model, loss_fn, optimizer, device=device, mode=mode)\n",
    "        \n",
    "        if mode == \"binary\":\n",
    "            val_loss, val_accuracy = test_binary_classification(val_loader, model, loss_fn, device=device)\n",
    "        else:\n",
    "            val_loss, val_accuracy = test_multi_classification(val_loader, model, loss_fn, device=device)\n",
    "\n",
    "        train_loss_list.append(train_loss)\n",
    "        train_accuracy_list.append(train_accuracy)\n",
    "        val_loss_list.append(val_loss)\n",
    "        val_accuracy_list.append(val_accuracy)\n",
    "        \n",
    "        print(f\"Epoch[{epoch+1}/{epochs}] - Train loss: {train_loss:.5f} Train Accucracy: {train_accuracy:.5f} || Validation Loss: {val_loss:.5f} Validation Accuracy: {val_accuracy:.5f}\")\n",
    "        print('='*100)\n",
    "        \n",
    "        # 모델 저장\n",
    "        if save_best_model:\n",
    "            if val_loss < best_score_save:\n",
    "                torch.save(model, save_model_path)\n",
    "                print(f\"저장: {epoch+1} - 이전 : {best_score_save}, 현재: {val_loss}\")\n",
    "                best_score_save = val_loss\n",
    "        \n",
    "        # early stopping 처리            \n",
    "        if early_stopping:\n",
    "            if val_loss < best_score_es: \n",
    "                best_score_es = val_loss  \n",
    "                trigger_count = 0\n",
    "                                \n",
    "            else:\n",
    "                trigger_count += 1                \n",
    "                if patience == trigger_count:\n",
    "                    print(f\"Early stopping: Epoch - {epoch}\")\n",
    "                    break\n",
    "            \n",
    "    e = time.time()\n",
    "    print(e-s, \"초\")\n",
    "    return train_loss_list, train_accuracy_list, val_loss_list, val_accuracy_list"
   ]
  },
  {
   "cell_type": "markdown",
   "metadata": {},
   "source": [
    "## data.py\n",
    "\n",
    "-   dataset 생성 함수 제공 모듈\n"
   ]
  },
  {
   "cell_type": "code",
   "execution_count": 12,
   "metadata": {},
   "outputs": [
    {
     "name": "stdout",
     "output_type": "stream",
     "text": [
      "Writing module/data.py\n"
     ]
    }
   ],
   "source": [
    "%%writefile module/data.py\n",
    "from torchvision import datasets, transforms\n",
    "from torch.utils.data import DataLoader\n",
    "\n",
    "def load_mnist_dataset(root_path, batch_size, is_train=True):\n",
    "    \"\"\"\n",
    "    mnist dataset dataloader 제공 함수\n",
    "    [parameter]\n",
    "        root_path: str|Path - 데이터파일 저장 디렉토리\n",
    "        batch_size: int\n",
    "        is_train: bool = True - True: Train dataset, False - Test dataset\n",
    "    [return]\n",
    "        DataLoader \n",
    "    \"\"\"\n",
    "    transform = transforms.Compose([\n",
    "        transforms.ToTensor()\n",
    "    ])\n",
    "    dataset = datasets.MNIST(root=root_path, train=is_train, download=True, transform=transform)\n",
    "    dataloader = DataLoader(dataset, batch_size=batch_size, shuffle=is_train)  # shuffle: train이면 True, test면 False 할 것이므로 is_train을 넣음.\n",
    "    \n",
    "    return dataloader\n",
    "\n",
    "def load_fashion_mnist_dataset(root_path, batch_size, is_train=True):\n",
    "    \"\"\"\n",
    "    fashion mnist dataset dataloader 제공 함수\n",
    "    [parameter]\n",
    "        root_path: str|Path - 데이터파일 저장 디렉토리\n",
    "        batch_size: int\n",
    "        is_train: bool = True - True: Train dataset, False - Test dataset\n",
    "    [return]\n",
    "        DataLoader\n",
    "    \"\"\"\n",
    "    transform = transforms.Compose([\n",
    "        transforms.ToTensor()\n",
    "    ])\n",
    "    dataset = datasets.FashionMNIST(root=root_path, train=is_train, download=True, transform=transform)\n",
    "    dataloader = DataLoader(dataset, batch_size=batch_size, shuffle=is_train)  # shuffle: train이면 True, test면 False 할 것이므로 is_train을 넣음.\n",
    "    \n",
    "    return dataloader"
   ]
  },
  {
   "cell_type": "markdown",
   "metadata": {},
   "source": [
    "## utils.py\n"
   ]
  },
  {
   "cell_type": "code",
   "execution_count": 13,
   "metadata": {},
   "outputs": [
    {
     "name": "stdout",
     "output_type": "stream",
     "text": [
      "Writing module/utils.py\n"
     ]
    }
   ],
   "source": [
    "%%writefile module/utils.py\n",
    "# 학습 결과를 시각화하는 함수.\n",
    "import matplotlib.pyplot as plt\n",
    "\n",
    "def plot_fit_result(train_loss_list, train_accuracy_list, valid_loss_list, valid_accuracy_list):\n",
    "    epoch = len(train_loss_list)\n",
    "    plt.figure(figsize=(12, 5))\n",
    "    \n",
    "    plt.subplot(1, 2, 1)\n",
    "    plt.plot(range(epoch), train_loss_list, label=\"train loss\")\n",
    "    plt.plot(range(epoch), valid_loss_list, label=\"validation loss\")\n",
    "    plt.title(\"Loss\")\n",
    "    plt.xlabel(\"epoch\")\n",
    "    plt.ylabel(\"loss\")\n",
    "    plt.grid(True, linestyle=':')\n",
    "    plt.legend()\n",
    "\n",
    "    plt.subplot(1, 2, 2)\n",
    "    plt.plot(range(epoch), train_accuracy_list, label=\"train accuracy\")\n",
    "    plt.plot(range(epoch), valid_accuracy_list, label=\"validation accuracy\")\n",
    "    plt.title(\"Accuracy\")\n",
    "    plt.xlabel(\"epoch\")\n",
    "    plt.ylabel(\"accuracy\")\n",
    "    plt.grid(True, linestyle=':')\n",
    "    plt.legend()\n",
    "\n",
    "    plt.tight_layout()\n",
    "    plt.show()"
   ]
  },
  {
   "cell_type": "code",
   "execution_count": null,
   "metadata": {},
   "outputs": [],
   "source": []
  },
  {
   "cell_type": "code",
   "execution_count": 44,
   "metadata": {},
   "outputs": [],
   "source": [
    "import torch\n",
    "import torch.nn as nn\n",
    "\n",
    "from torchinfo import summary\n",
    "from module.train import fit\n",
    "from module.data import load_mnist_dataset, load_fashion_mnist_dataset\n",
    "from module.utils import plot_fit_result"
   ]
  },
  {
   "cell_type": "markdown",
   "metadata": {},
   "source": [
    "## 하이퍼파라미터, 변수 정의\n"
   ]
  },
  {
   "cell_type": "code",
   "execution_count": 22,
   "metadata": {},
   "outputs": [],
   "source": [
    "device = 'cuda' if torch.cuda.is_available() else 'cpu'\n",
    "root_data_path = 'datasets'\n",
    "\n",
    "epochs = 100\n",
    "batch_size = 256\n",
    "lr = 0.001"
   ]
  },
  {
   "cell_type": "markdown",
   "metadata": {},
   "source": [
    "# Data 준비\n",
    "\n",
    "## mnist 데이터 로딩\n"
   ]
  },
  {
   "cell_type": "code",
   "execution_count": 24,
   "metadata": {},
   "outputs": [
    {
     "data": {
      "text/plain": [
       "235"
      ]
     },
     "execution_count": 24,
     "metadata": {},
     "output_type": "execute_result"
    }
   ],
   "source": [
    "train_loader = load_mnist_dataset(root_data_path, batch_size)\n",
    "test_loader = load_mnist_dataset(root_data_path, batch_size, False)\n",
    "\n",
    "len(train_loader)"
   ]
  },
  {
   "cell_type": "code",
   "execution_count": 25,
   "metadata": {},
   "outputs": [],
   "source": [
    "classes = train_loader.dataset.classes\n",
    "class_to_idx = train_loader.dataset.class_to_idx"
   ]
  },
  {
   "cell_type": "markdown",
   "metadata": {},
   "source": [
    "# 모델의 크기 변경에 따른 성능변화\n"
   ]
  },
  {
   "cell_type": "code",
   "execution_count": 26,
   "metadata": {},
   "outputs": [],
   "source": [
    "class SmallModel(nn.Module) :\n",
    "\n",
    "    def __init__(self) :\n",
    "        super().__init__()\n",
    "        self.lr = nn.Linear(784, 10)\n",
    "\n",
    "    def forward(self, X) :\n",
    "        X = nn.Flatten()(X)\n",
    "        output = self.lr(X)\n",
    "        return output"
   ]
  },
  {
   "cell_type": "code",
   "execution_count": 57,
   "metadata": {},
   "outputs": [],
   "source": [
    "small_model = SmallModel().to(device)"
   ]
  },
  {
   "cell_type": "code",
   "execution_count": 28,
   "metadata": {},
   "outputs": [],
   "source": [
    "loss_fn = nn.CrossEntropyLoss()\n",
    "optimizer = torch.optim.Adam(small_model.parameters(), lr=lr)"
   ]
  },
  {
   "cell_type": "code",
   "execution_count": 29,
   "metadata": {},
   "outputs": [
    {
     "name": "stdout",
     "output_type": "stream",
     "text": [
      "Epoch[1/20] - Train loss: 0.48562 Train Accucracy: 0.87865 || Validation Loss: 0.46218 Validation Accuracy: 0.88960\n",
      "====================================================================================================\n",
      "저장: 1 - 이전 : inf, 현재: 0.46218082047998904\n",
      "Epoch[2/20] - Train loss: 0.38016 Train Accucracy: 0.89902 || Validation Loss: 0.36160 Validation Accuracy: 0.90530\n",
      "====================================================================================================\n",
      "저장: 2 - 이전 : 0.46218082047998904, 현재: 0.3615990366786718\n",
      "Epoch[3/20] - Train loss: 0.33865 Train Accucracy: 0.90932 || Validation Loss: 0.32345 Validation Accuracy: 0.91210\n",
      "====================================================================================================\n",
      "저장: 3 - 이전 : 0.3615990366786718, 현재: 0.3234498184174299\n",
      "Epoch[4/20] - Train loss: 0.31641 Train Accucracy: 0.91330 || Validation Loss: 0.30282 Validation Accuracy: 0.91550\n",
      "====================================================================================================\n",
      "저장: 4 - 이전 : 0.3234498184174299, 현재: 0.3028225309215486\n",
      "Epoch[5/20] - Train loss: 0.30255 Train Accucracy: 0.91655 || Validation Loss: 0.29172 Validation Accuracy: 0.91760\n",
      "====================================================================================================\n",
      "저장: 5 - 이전 : 0.3028225309215486, 현재: 0.29172050999477506\n",
      "Epoch[6/20] - Train loss: 0.29217 Train Accucracy: 0.91978 || Validation Loss: 0.28327 Validation Accuracy: 0.92010\n",
      "====================================================================================================\n",
      "저장: 6 - 이전 : 0.29172050999477506, 현재: 0.2832730462774634\n",
      "Epoch[7/20] - Train loss: 0.28516 Train Accucracy: 0.92140 || Validation Loss: 0.27850 Validation Accuracy: 0.92270\n",
      "====================================================================================================\n",
      "저장: 7 - 이전 : 0.2832730462774634, 현재: 0.2784973867237568\n",
      "Epoch[8/20] - Train loss: 0.27891 Train Accucracy: 0.92323 || Validation Loss: 0.27385 Validation Accuracy: 0.92310\n",
      "====================================================================================================\n",
      "저장: 8 - 이전 : 0.2784973867237568, 현재: 0.273853074060753\n",
      "Epoch[9/20] - Train loss: 0.27408 Train Accucracy: 0.92458 || Validation Loss: 0.27177 Validation Accuracy: 0.92500\n",
      "====================================================================================================\n",
      "저장: 9 - 이전 : 0.273853074060753, 현재: 0.27176528749987483\n",
      "Epoch[10/20] - Train loss: 0.26971 Train Accucracy: 0.92508 || Validation Loss: 0.26826 Validation Accuracy: 0.92450\n",
      "====================================================================================================\n",
      "저장: 10 - 이전 : 0.27176528749987483, 현재: 0.2682557868305594\n",
      "Epoch[11/20] - Train loss: 0.26682 Train Accucracy: 0.92605 || Validation Loss: 0.26780 Validation Accuracy: 0.92440\n",
      "====================================================================================================\n",
      "저장: 11 - 이전 : 0.2682557868305594, 현재: 0.2677951318677515\n",
      "Epoch[12/20] - Train loss: 0.26322 Train Accucracy: 0.92688 || Validation Loss: 0.26496 Validation Accuracy: 0.92430\n",
      "====================================================================================================\n",
      "저장: 12 - 이전 : 0.2677951318677515, 현재: 0.26495919432491066\n",
      "Epoch[13/20] - Train loss: 0.26035 Train Accucracy: 0.92753 || Validation Loss: 0.26326 Validation Accuracy: 0.92590\n",
      "====================================================================================================\n",
      "저장: 13 - 이전 : 0.26495919432491066, 현재: 0.2632618871517479\n",
      "Epoch[14/20] - Train loss: 0.25960 Train Accucracy: 0.92810 || Validation Loss: 0.26382 Validation Accuracy: 0.92590\n",
      "====================================================================================================\n",
      "Epoch[15/20] - Train loss: 0.25694 Train Accucracy: 0.92858 || Validation Loss: 0.26259 Validation Accuracy: 0.92630\n",
      "====================================================================================================\n",
      "저장: 15 - 이전 : 0.2632618871517479, 현재: 0.26259442265145483\n",
      "Epoch[16/20] - Train loss: 0.25481 Train Accucracy: 0.92905 || Validation Loss: 0.25989 Validation Accuracy: 0.92730\n",
      "====================================================================================================\n",
      "저장: 16 - 이전 : 0.26259442265145483, 현재: 0.25988830868154766\n",
      "Epoch[17/20] - Train loss: 0.25354 Train Accucracy: 0.92965 || Validation Loss: 0.26021 Validation Accuracy: 0.92640\n",
      "====================================================================================================\n",
      "Epoch[18/20] - Train loss: 0.25192 Train Accucracy: 0.93018 || Validation Loss: 0.26044 Validation Accuracy: 0.92740\n",
      "====================================================================================================\n",
      "Epoch[19/20] - Train loss: 0.25115 Train Accucracy: 0.93003 || Validation Loss: 0.26051 Validation Accuracy: 0.92690\n",
      "====================================================================================================\n",
      "Epoch[20/20] - Train loss: 0.25015 Train Accucracy: 0.93138 || Validation Loss: 0.26001 Validation Accuracy: 0.92820\n",
      "====================================================================================================\n",
      "241.92983293533325 초\n"
     ]
    }
   ],
   "source": [
    "train_loss_list, train_acc_list, valid_loss_list, valid_acc_list = fit(\n",
    "    train_loader,\n",
    "    test_loader,\n",
    "    small_model,\n",
    "    loss_fn,\n",
    "    optimizer,\n",
    "    20,\n",
    "    save_model_path='saved_models/small_model.pt',\n",
    "    device=device,\n",
    "    mode='multi'\n",
    ")"
   ]
  },
  {
   "cell_type": "code",
   "execution_count": 36,
   "metadata": {},
   "outputs": [
    {
     "data": {
      "image/png": "[encoded data removed]",
      "text/plain": [
       "<Figure size 1200x500 with 2 Axes>"
      ]
     },
     "metadata": {},
     "output_type": "display_data"
    }
   ],
   "source": [
    "plot_fit_result(train_loss_list, train_acc_list, valid_loss_list, valid_acc_list)"
   ]
  },
  {
   "cell_type": "code",
   "execution_count": 40,
   "metadata": {},
   "outputs": [
    {
     "data": {
      "text/plain": [
       "tensor([[0.4476, 3.1813],\n",
       "        [0.1367, 1.2732],\n",
       "        [0.0000, 0.2467],\n",
       "        [0.0389, 0.6732],\n",
       "        [0.0000, 0.2072],\n",
       "        [0.0000, 0.0000],\n",
       "        [0.1690, 1.4717],\n",
       "        [0.0000, 0.2625],\n",
       "        [0.0481, 0.7298],\n",
       "        [0.1820, 1.5516]], grad_fn=<ReluBackward0>)"
      ]
     },
     "execution_count": 40,
     "metadata": {},
     "output_type": "execute_result"
    }
   ],
   "source": [
    "b = nn.Sequential(nn.Linear(1, 2), nn.ReLU())\n",
    "b(torch.randn(10,1))"
   ]
  },
  {
   "cell_type": "code",
   "execution_count": 70,
   "metadata": {},
   "outputs": [],
   "source": [
    "# 큰 모델\n",
    "\n",
    "class BigModel(nn.Module):\n",
    "\n",
    "    def __init__(self):\n",
    "        super().__init__()\n",
    "        # Linear() -> ReLU() : Sequential로 묶어서 정의\n",
    "        self.b1 = nn.Sequential(nn.Linear(784, 2048), nn.ReLU())\n",
    "        self.b2 = nn.Sequential(nn.Linear(2048, 1024), nn.ReLU())\n",
    "        self.b3 = nn.Sequential(nn.Linear(1024, 512), nn.ReLU())\n",
    "        self.b4 = nn.Sequential(nn.Linear(512, 256), nn.ReLU())\n",
    "        self.b5 = nn.Sequential(nn.Linear(256, 128), nn.ReLU())\n",
    "        self.b6 = nn.Sequential(nn.Linear(128, 64), nn.ReLU())\n",
    "        self.b7 = nn.Sequential(nn.Linear(64, 32), nn.ReLU())\n",
    "        self.out_block = nn.Linear(32, 10)\n",
    "\n",
    "    def forward(self, X):\n",
    "        X = nn.Flatten()(X)\n",
    "        X = self.b1(X)\n",
    "        X = self.b2(X)\n",
    "        X = self.b3(X)\n",
    "        X = self.b4(X)\n",
    "        X = self.b5(X)\n",
    "        X = self.b6(X)\n",
    "        X = self.b7(X)\n",
    "        output = self.out_block(X)\n",
    "        return output"
   ]
  },
  {
   "cell_type": "code",
   "execution_count": 71,
   "metadata": {},
   "outputs": [
    {
     "data": {
      "text/plain": [
       "==========================================================================================\n",
       "Layer (type:depth-idx)                   Output Shape              Param #\n",
       "==========================================================================================\n",
       "BigModel                                 [10, 10]                  --\n",
       "├─Sequential: 1-1                        [10, 2048]                --\n",
       "│    └─Linear: 2-1                       [10, 2048]                1,607,680\n",
       "│    └─ReLU: 2-2                         [10, 2048]                --\n",
       "├─Sequential: 1-2                        [10, 1024]                --\n",
       "│    └─Linear: 2-3                       [10, 1024]                2,098,176\n",
       "│    └─ReLU: 2-4                         [10, 1024]                --\n",
       "├─Sequential: 1-3                        [10, 512]                 --\n",
       "│    └─Linear: 2-5                       [10, 512]                 524,800\n",
       "│    └─ReLU: 2-6                         [10, 512]                 --\n",
       "├─Sequential: 1-4                        [10, 256]                 --\n",
       "│    └─Linear: 2-7                       [10, 256]                 131,328\n",
       "│    └─ReLU: 2-8                         [10, 256]                 --\n",
       "├─Sequential: 1-5                        [10, 128]                 --\n",
       "│    └─Linear: 2-9                       [10, 128]                 32,896\n",
       "│    └─ReLU: 2-10                        [10, 128]                 --\n",
       "├─Sequential: 1-6                        [10, 64]                  --\n",
       "│    └─Linear: 2-11                      [10, 64]                  8,256\n",
       "│    └─ReLU: 2-12                        [10, 64]                  --\n",
       "├─Sequential: 1-7                        [10, 32]                  --\n",
       "│    └─Linear: 2-13                      [10, 32]                  2,080\n",
       "│    └─ReLU: 2-14                        [10, 32]                  --\n",
       "├─Linear: 1-8                            [10, 10]                  330\n",
       "==========================================================================================\n",
       "Total params: 4,405,546\n",
       "Trainable params: 4,405,546\n",
       "Non-trainable params: 0\n",
       "Total mult-adds (Units.MEGABYTES): 44.06\n",
       "==========================================================================================\n",
       "Input size (MB): 0.03\n",
       "Forward/backward pass size (MB): 0.33\n",
       "Params size (MB): 17.62\n",
       "Estimated Total Size (MB): 17.98\n",
       "=========================================================================================="
      ]
     },
     "execution_count": 71,
     "metadata": {},
     "output_type": "execute_result"
    }
   ],
   "source": [
    "big_model = BigModel().to(device)\n",
    "summary(big_model, (10, 1, 28, 28), device=device)"
   ]
  },
  {
   "cell_type": "code",
   "execution_count": 73,
   "metadata": {},
   "outputs": [
    {
     "ename": "TypeError",
     "evalue": "fit() got multiple values for argument 'model'",
     "output_type": "error",
     "traceback": [
      "\u001b[0;31m---------------------------------------------------------------------------\u001b[0m",
      "\u001b[0;31mTypeError\u001b[0m                                 Traceback (most recent call last)",
      "Cell \u001b[0;32mIn[73], line 4\u001b[0m\n\u001b[1;32m      1\u001b[0m loss_fn \u001b[38;5;241m=\u001b[39m nn\u001b[38;5;241m.\u001b[39mCrossEntropyLoss()\n\u001b[1;32m      2\u001b[0m optimizer \u001b[38;5;241m=\u001b[39m torch\u001b[38;5;241m.\u001b[39moptim\u001b[38;5;241m.\u001b[39mAdam(big_model\u001b[38;5;241m.\u001b[39mparameters(), lr\u001b[38;5;241m=\u001b[39mlr)\n\u001b[0;32m----> 4\u001b[0m train_loss_list, train_acc_list, valid_loss_list, valid_acc_list \u001b[38;5;241m=\u001b[39m \u001b[43mfit\u001b[49m\u001b[43m(\u001b[49m\n\u001b[1;32m      5\u001b[0m \u001b[43m    \u001b[49m\u001b[43mtrain_loader\u001b[49m\u001b[43m,\u001b[49m\u001b[43m \u001b[49m\u001b[43mtest_loader\u001b[49m\u001b[43m,\u001b[49m\n\u001b[1;32m      6\u001b[0m \u001b[43m    \u001b[49m\u001b[43mbig_model\u001b[49m\u001b[43m,\u001b[49m\u001b[43m \u001b[49m\u001b[43mloss_fn\u001b[49m\u001b[43m,\u001b[49m\u001b[43m \u001b[49m\u001b[43moptimizer\u001b[49m\u001b[43m,\u001b[49m\n\u001b[1;32m      7\u001b[0m \u001b[43m    \u001b[49m\u001b[43mepochs\u001b[49m\u001b[43m,\u001b[49m\n\u001b[1;32m      8\u001b[0m \u001b[43m    \u001b[49m\u001b[43msave_model_path\u001b[49m\u001b[43m \u001b[49m\u001b[38;5;241;43m=\u001b[39;49m\u001b[43m \u001b[49m\u001b[38;5;124;43m'\u001b[39;49m\u001b[38;5;124;43msaved_models/big_model.pt\u001b[39;49m\u001b[38;5;124;43m'\u001b[39;49m\u001b[43m,\u001b[49m\n\u001b[1;32m      9\u001b[0m \u001b[43m    \u001b[49m\u001b[43mpatience\u001b[49m\u001b[38;5;241;43m=\u001b[39;49m\u001b[38;5;241;43m5\u001b[39;49m\u001b[43m,\u001b[49m\n\u001b[1;32m     10\u001b[0m \u001b[43m    \u001b[49m\u001b[43mdevice\u001b[49m\u001b[38;5;241;43m=\u001b[39;49m\u001b[43mdevice\u001b[49m\u001b[43m,\u001b[49m\n\u001b[1;32m     11\u001b[0m \u001b[43m    \u001b[49m\u001b[43mmodel\u001b[49m\u001b[38;5;241;43m=\u001b[39;49m\u001b[38;5;124;43m'\u001b[39;49m\u001b[38;5;124;43mmulti\u001b[39;49m\u001b[38;5;124;43m'\u001b[39;49m\n\u001b[1;32m     12\u001b[0m \u001b[43m)\u001b[49m\n",
      "\u001b[0;31mTypeError\u001b[0m: fit() got multiple values for argument 'model'"
     ]
    }
   ],
   "source": [
    "loss_fn = nn.CrossEntropyLoss()\n",
    "optimizer = torch.optim.Adam(big_model.parameters(), lr=lr)\n",
    "\n",
    "train_loss_list, train_acc_list, valid_loss_list, valid_acc_list = fit(\n",
    "    train_loader, test_loader,\n",
    "    big_model, loss_fn, optimizer,\n",
    "    epochs,\n",
    "    save_model_path = 'saved_models/big_model.pt',\n",
    "    patience=5,\n",
    "    device=device,\n",
    "    model='multi'\n",
    ")"
   ]
  },
  {
   "cell_type": "markdown",
   "metadata": {},
   "source": [
    "# Dropout 예제\n",
    "\n",
    "-   dropout 각 레이어에 적용\n",
    "    -   dropout은 nn.Dropout 객체를 사용\n",
    "    -   객체 생성시 dropout_rate 설정: 0.2 ~ 0.5\n",
    "    -   Drop시킬 노드를 가진 Layer 뒤에 추가한다.\n"
   ]
  },
  {
   "cell_type": "code",
   "execution_count": null,
   "metadata": {},
   "outputs": [],
   "source": []
  },
  {
   "cell_type": "code",
   "execution_count": null,
   "metadata": {},
   "outputs": [],
   "source": []
  },
  {
   "cell_type": "code",
   "execution_count": null,
   "metadata": {
    "scrolled": true
   },
   "outputs": [],
   "source": []
  },
  {
   "cell_type": "markdown",
   "metadata": {},
   "source": [
    "# Batch Normalization\n",
    "\n",
    "-   Dense => BN => Activation\n"
   ]
  },
  {
   "cell_type": "code",
   "execution_count": null,
   "metadata": {},
   "outputs": [],
   "source": []
  },
  {
   "cell_type": "code",
   "execution_count": null,
   "metadata": {},
   "outputs": [],
   "source": []
  },
  {
   "cell_type": "code",
   "execution_count": null,
   "metadata": {},
   "outputs": [],
   "source": []
  },
  {
   "cell_type": "markdown",
   "metadata": {},
   "source": [
    "# Learning rate decay\n"
   ]
  },
  {
   "cell_type": "markdown",
   "metadata": {},
   "source": [
    "### Optimizer와 Learning rate scheduler의 속성, 메소드 확인\n",
    "\n",
    "-   파이토치는 `torch.optim` 모듈에서 다양한 Learning rate 알고리즘을 제공한다.\n"
   ]
  },
  {
   "cell_type": "code",
   "execution_count": null,
   "metadata": {},
   "outputs": [],
   "source": []
  },
  {
   "cell_type": "markdown",
   "metadata": {},
   "source": [
    "#### StepLR\n"
   ]
  },
  {
   "cell_type": "code",
   "execution_count": null,
   "metadata": {},
   "outputs": [],
   "source": []
  },
  {
   "cell_type": "markdown",
   "metadata": {},
   "source": [
    "#### CosineAnnealingLR\n",
    "\n",
    "cosine 그래프를 그리면서 learning rate를 변경 하는 방식.  \n",
    "최근에는 learning rate를 단순히 감소시키기 보다는 감소와 증가를 반복하여 진동하는 방식으로 최적점을 찾아가는 알고리즘을 많이 사용한다. 이러한 방법 중 가장 간단하면서도 많이 사용되는 방법이 CosineAnnealingLR이다.\n"
   ]
  },
  {
   "cell_type": "code",
   "execution_count": null,
   "metadata": {},
   "outputs": [],
   "source": []
  },
  {
   "cell_type": "markdown",
   "metadata": {},
   "source": [
    "#### CosineAnnealingWarmRestarts\n",
    "\n",
    "cosine annealing의 스케쥴링에 cosine 주기의 에폭을 점점 늘리거나 줄일 수 있다. (보통 늘린다.)\n"
   ]
  },
  {
   "cell_type": "code",
   "execution_count": null,
   "metadata": {},
   "outputs": [],
   "source": []
  }
 ],
 "metadata": {
  "kernelspec": {
   "display_name": "Python 3 (ipykernel)",
   "language": "python",
   "name": "python3"
  },
  "language_info": {
   "codemirror_mode": {
    "name": "ipython",
    "version": 3
   },
   "file_extension": ".py",
   "mimetype": "text/x-python",
   "name": "python",
   "nbconvert_exporter": "python",
   "pygments_lexer": "ipython3",
   "version": "3.12.7"
  },
  "toc": {
   "base_numbering": 1,
   "nav_menu": {},
   "number_sections": false,
   "sideBar": true,
   "skip_h1_title": false,
   "title_cell": "Table of Contents",
   "title_sidebar": "Contents",
   "toc_cell": false,
   "toc_position": {},
   "toc_section_display": true,
   "toc_window_display": false
  },
  "varInspector": {
   "cols": {
    "lenName": 16,
    "lenType": 16,
    "lenVar": 40
   },
   "kernels_config": {
    "python": {
     "delete_cmd_postfix": "",
     "delete_cmd_prefix": "del ",
     "library": "var_list.py",
     "varRefreshCmd": "print(var_dic_list())"
    },
    "r": {
     "delete_cmd_postfix": ") ",
     "delete_cmd_prefix": "rm(",
     "library": "var_list.r",
     "varRefreshCmd": "cat(var_dic_list()) "
    }
   },
   "types_to_exclude": [
    "module",
    "function",
    "builtin_function_or_method",
    "instance",
    "_Feature"
   ],
   "window_display": false
  }
 },
 "nbformat": 4,
 "nbformat_minor": 4
}
